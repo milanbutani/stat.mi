{
 "cells": [
  {
   "cell_type": "code",
   "execution_count": 1,
   "metadata": {},
   "outputs": [],
   "source": [
    "import pandas as pd\n",
    "import numpy as np\n",
    "import seaborn as sns\n",
    "import matplotlib.pyplot as plt\n",
    "import matplotlib.font_manager as fm"
   ]
  },
  {
   "cell_type": "code",
   "execution_count": 3,
   "metadata": {},
   "outputs": [],
   "source": [
    "lonzo = pd.read_csv('lonzo.csv')\n",
    "bi = pd.read_csv('ingram.csv')\n",
    "hart = pd.read_csv('hart.csv')"
   ]
  },
  {
   "cell_type": "code",
   "execution_count": 4,
   "metadata": {},
   "outputs": [],
   "source": [
    "cols = ['Tm', 'PTS', 'AST', 'TRB']"
   ]
  },
  {
   "cell_type": "code",
   "execution_count": 5,
   "metadata": {},
   "outputs": [],
   "source": [
    "lonzo = lonzo[cols]\n",
    "bi = bi[cols]\n",
    "hart = hart[cols]"
   ]
  },
  {
   "cell_type": "code",
   "execution_count": 7,
   "metadata": {},
   "outputs": [],
   "source": [
    "for i in cols[1:]:\n",
    "    lonzo[i] = lonzo[i].apply(int)\n",
    "    bi[i] = bi[i].apply(int)\n",
    "    hart[i] = hart[i].apply(int)"
   ]
  },
  {
   "cell_type": "code",
   "execution_count": 13,
   "metadata": {},
   "outputs": [
    {
     "data": {
      "text/html": [
       "<div>\n",
       "<style scoped>\n",
       "    .dataframe tbody tr th:only-of-type {\n",
       "        vertical-align: middle;\n",
       "    }\n",
       "\n",
       "    .dataframe tbody tr th {\n",
       "        vertical-align: top;\n",
       "    }\n",
       "\n",
       "    .dataframe thead th {\n",
       "        text-align: right;\n",
       "    }\n",
       "</style>\n",
       "<table border=\"1\" class=\"dataframe\">\n",
       "  <thead>\n",
       "    <tr style=\"text-align: right;\">\n",
       "      <th></th>\n",
       "      <th>Tm</th>\n",
       "      <th>PTS</th>\n",
       "      <th>AST</th>\n",
       "      <th>TRB</th>\n",
       "    </tr>\n",
       "  </thead>\n",
       "  <tbody>\n",
       "    <tr>\n",
       "      <th>0</th>\n",
       "      <td>LAL</td>\n",
       "      <td>10.030303</td>\n",
       "      <td>6.373737</td>\n",
       "      <td>6.171717</td>\n",
       "    </tr>\n",
       "    <tr>\n",
       "      <th>1</th>\n",
       "      <td>NOP</td>\n",
       "      <td>12.410714</td>\n",
       "      <td>7.000000</td>\n",
       "      <td>6.214286</td>\n",
       "    </tr>\n",
       "  </tbody>\n",
       "</table>\n",
       "</div>"
      ],
      "text/plain": [
       "    Tm        PTS       AST       TRB\n",
       "0  LAL  10.030303  6.373737  6.171717\n",
       "1  NOP  12.410714  7.000000  6.214286"
      ]
     },
     "execution_count": 13,
     "metadata": {},
     "output_type": "execute_result"
    }
   ],
   "source": [
    "l_g = lonzo.groupby('Tm').mean()\n",
    "l_g = l_g.reset_index()\n",
    "l_g"
   ]
  },
  {
   "cell_type": "code",
   "execution_count": 14,
   "metadata": {},
   "outputs": [
    {
     "data": {
      "text/html": [
       "<div>\n",
       "<style scoped>\n",
       "    .dataframe tbody tr th:only-of-type {\n",
       "        vertical-align: middle;\n",
       "    }\n",
       "\n",
       "    .dataframe tbody tr th {\n",
       "        vertical-align: top;\n",
       "    }\n",
       "\n",
       "    .dataframe thead th {\n",
       "        text-align: right;\n",
       "    }\n",
       "</style>\n",
       "<table border=\"1\" class=\"dataframe\">\n",
       "  <thead>\n",
       "    <tr style=\"text-align: right;\">\n",
       "      <th></th>\n",
       "      <th>Tm</th>\n",
       "      <th>PTS</th>\n",
       "      <th>AST</th>\n",
       "      <th>TRB</th>\n",
       "    </tr>\n",
       "  </thead>\n",
       "  <tbody>\n",
       "    <tr>\n",
       "      <th>0</th>\n",
       "      <td>LAL</td>\n",
       "      <td>13.889474</td>\n",
       "      <td>2.894737</td>\n",
       "      <td>4.721053</td>\n",
       "    </tr>\n",
       "    <tr>\n",
       "      <th>1</th>\n",
       "      <td>NOP</td>\n",
       "      <td>24.250000</td>\n",
       "      <td>4.303571</td>\n",
       "      <td>6.250000</td>\n",
       "    </tr>\n",
       "  </tbody>\n",
       "</table>\n",
       "</div>"
      ],
      "text/plain": [
       "    Tm        PTS       AST       TRB\n",
       "0  LAL  13.889474  2.894737  4.721053\n",
       "1  NOP  24.250000  4.303571  6.250000"
      ]
     },
     "execution_count": 14,
     "metadata": {},
     "output_type": "execute_result"
    }
   ],
   "source": [
    "b_g = bi.groupby('Tm').mean()\n",
    "b_g = b_g.reset_index()\n",
    "b_g"
   ]
  },
  {
   "cell_type": "code",
   "execution_count": 15,
   "metadata": {},
   "outputs": [
    {
     "data": {
      "text/html": [
       "<div>\n",
       "<style scoped>\n",
       "    .dataframe tbody tr th:only-of-type {\n",
       "        vertical-align: middle;\n",
       "    }\n",
       "\n",
       "    .dataframe tbody tr th {\n",
       "        vertical-align: top;\n",
       "    }\n",
       "\n",
       "    .dataframe thead th {\n",
       "        text-align: right;\n",
       "    }\n",
       "</style>\n",
       "<table border=\"1\" class=\"dataframe\">\n",
       "  <thead>\n",
       "    <tr style=\"text-align: right;\">\n",
       "      <th></th>\n",
       "      <th>Tm</th>\n",
       "      <th>PTS</th>\n",
       "      <th>AST</th>\n",
       "      <th>TRB</th>\n",
       "    </tr>\n",
       "  </thead>\n",
       "  <tbody>\n",
       "    <tr>\n",
       "      <th>0</th>\n",
       "      <td>LAL</td>\n",
       "      <td>7.853846</td>\n",
       "      <td>1.330769</td>\n",
       "      <td>3.930769</td>\n",
       "    </tr>\n",
       "    <tr>\n",
       "      <th>1</th>\n",
       "      <td>NOP</td>\n",
       "      <td>10.157895</td>\n",
       "      <td>1.649123</td>\n",
       "      <td>6.491228</td>\n",
       "    </tr>\n",
       "  </tbody>\n",
       "</table>\n",
       "</div>"
      ],
      "text/plain": [
       "    Tm        PTS       AST       TRB\n",
       "0  LAL   7.853846  1.330769  3.930769\n",
       "1  NOP  10.157895  1.649123  6.491228"
      ]
     },
     "execution_count": 15,
     "metadata": {},
     "output_type": "execute_result"
    }
   ],
   "source": [
    "h_g = hart.groupby('Tm').mean()\n",
    "h_g = h_g.reset_index()\n",
    "h_g"
   ]
  },
  {
   "cell_type": "code",
   "execution_count": 16,
   "metadata": {},
   "outputs": [],
   "source": [
    "l_g['Player'] = ['Ball' for i in range(len(l_g))]\n",
    "b_g['Player'] = ['Ingram' for i in range(len(b_g))]\n",
    "h_g['Player'] = ['Hart' for i in range(len(h_g))]"
   ]
  },
  {
   "cell_type": "code",
   "execution_count": 17,
   "metadata": {},
   "outputs": [],
   "source": [
    "data = pd.concat([l_g, b_g, h_g])"
   ]
  },
  {
   "cell_type": "code",
   "execution_count": 18,
   "metadata": {},
   "outputs": [
    {
     "data": {
      "text/html": [
       "<div>\n",
       "<style scoped>\n",
       "    .dataframe tbody tr th:only-of-type {\n",
       "        vertical-align: middle;\n",
       "    }\n",
       "\n",
       "    .dataframe tbody tr th {\n",
       "        vertical-align: top;\n",
       "    }\n",
       "\n",
       "    .dataframe thead th {\n",
       "        text-align: right;\n",
       "    }\n",
       "</style>\n",
       "<table border=\"1\" class=\"dataframe\">\n",
       "  <thead>\n",
       "    <tr style=\"text-align: right;\">\n",
       "      <th></th>\n",
       "      <th>Tm</th>\n",
       "      <th>PTS</th>\n",
       "      <th>AST</th>\n",
       "      <th>TRB</th>\n",
       "      <th>Player</th>\n",
       "    </tr>\n",
       "  </thead>\n",
       "  <tbody>\n",
       "    <tr>\n",
       "      <th>0</th>\n",
       "      <td>LAL</td>\n",
       "      <td>10.030303</td>\n",
       "      <td>6.373737</td>\n",
       "      <td>6.171717</td>\n",
       "      <td>Ball</td>\n",
       "    </tr>\n",
       "    <tr>\n",
       "      <th>1</th>\n",
       "      <td>NOP</td>\n",
       "      <td>12.410714</td>\n",
       "      <td>7.000000</td>\n",
       "      <td>6.214286</td>\n",
       "      <td>Ball</td>\n",
       "    </tr>\n",
       "    <tr>\n",
       "      <th>0</th>\n",
       "      <td>LAL</td>\n",
       "      <td>13.889474</td>\n",
       "      <td>2.894737</td>\n",
       "      <td>4.721053</td>\n",
       "      <td>Ingram</td>\n",
       "    </tr>\n",
       "    <tr>\n",
       "      <th>1</th>\n",
       "      <td>NOP</td>\n",
       "      <td>24.250000</td>\n",
       "      <td>4.303571</td>\n",
       "      <td>6.250000</td>\n",
       "      <td>Ingram</td>\n",
       "    </tr>\n",
       "    <tr>\n",
       "      <th>0</th>\n",
       "      <td>LAL</td>\n",
       "      <td>7.853846</td>\n",
       "      <td>1.330769</td>\n",
       "      <td>3.930769</td>\n",
       "      <td>Hart</td>\n",
       "    </tr>\n",
       "    <tr>\n",
       "      <th>1</th>\n",
       "      <td>NOP</td>\n",
       "      <td>10.157895</td>\n",
       "      <td>1.649123</td>\n",
       "      <td>6.491228</td>\n",
       "      <td>Hart</td>\n",
       "    </tr>\n",
       "  </tbody>\n",
       "</table>\n",
       "</div>"
      ],
      "text/plain": [
       "    Tm        PTS       AST       TRB  Player\n",
       "0  LAL  10.030303  6.373737  6.171717    Ball\n",
       "1  NOP  12.410714  7.000000  6.214286    Ball\n",
       "0  LAL  13.889474  2.894737  4.721053  Ingram\n",
       "1  NOP  24.250000  4.303571  6.250000  Ingram\n",
       "0  LAL   7.853846  1.330769  3.930769    Hart\n",
       "1  NOP  10.157895  1.649123  6.491228    Hart"
      ]
     },
     "execution_count": 18,
     "metadata": {},
     "output_type": "execute_result"
    }
   ],
   "source": [
    "data"
   ]
  },
  {
   "cell_type": "code",
   "execution_count": 46,
   "metadata": {},
   "outputs": [
    {
     "data": {
      "image/png": "[encoded data removed]",
      "text/plain": [
       "<Figure size 432x288 with 1 Axes>"
      ]
     },
     "metadata": {},
     "output_type": "display_data"
    }
   ],
   "source": [
    "sns.set_style(\"whitegrid\", {'axes.grid' : False})\n",
    "#sns.set_style(\"ticks\", {\"xtick.major.size\": 8, \"ytick.major.size\": 8})\n",
    "ax = sns.lineplot(x=\"Tm\", y=\"PTS\", hue=\"Player\", data=data, marker='o', palette=sns.color_palette(\"Set2\")[:3], lw=3)\n",
    "ax.lines[0].set_markersize(10)\n",
    "ax.lines[1].set_markersize(10)\n",
    "ax.lines[2].set_markersize(10)\n",
    "#plt.setp(ax.get_legend().get_texts(), fontproperties=prop) # for legend text\n",
    "#plt.setp(ax.get_legend().get_title(), fontproperties=prop)\n",
    "prop = fm.FontProperties(fname='Liberator-Light.ttf')\n",
    "plt.xticks(fontproperties=prop, size=14);\n",
    "plt.yticks(fontproperties=prop, size=14);\n",
    "plt.xlabel('team', fontproperties=prop, size=16);\n",
    "plt.ylabel('Avg PTS', fontproperties=prop, size=16);\n",
    "ax.set_title('points', fontproperties=prop, size=24);\n",
    "plt.setp(ax.get_legend().get_texts(), fontproperties=prop) # for legend text\n",
    "plt.setp(ax.get_legend().get_title(), fontproperties=prop)\n",
    "\n",
    "plt.tight_layout()\n",
    "#plt.savefig(\"shaqpt.png\")"
   ]
  },
  {
   "cell_type": "code",
   "execution_count": 47,
   "metadata": {},
   "outputs": [
    {
     "data": {
      "image/png": "[encoded data removed]",
      "text/plain": [
       "<Figure size 432x288 with 1 Axes>"
      ]
     },
     "metadata": {},
     "output_type": "display_data"
    }
   ],
   "source": [
    "sns.set_style(\"whitegrid\", {'axes.grid' : False})\n",
    "#sns.set_style(\"ticks\", {\"xtick.major.size\": 8, \"ytick.major.size\": 8})\n",
    "ax = sns.lineplot(x=\"Tm\", y=\"AST\", hue=\"Player\", data=data, marker='o', palette=sns.color_palette(\"Set2\")[:3], lw=3)\n",
    "ax.lines[0].set_markersize(10)\n",
    "ax.lines[1].set_markersize(10)\n",
    "ax.lines[2].set_markersize(10)\n",
    "#plt.setp(ax.get_legend().get_texts(), fontproperties=prop) # for legend text\n",
    "#plt.setp(ax.get_legend().get_title(), fontproperties=prop)\n",
    "prop = fm.FontProperties(fname='Liberator-Light.ttf')\n",
    "plt.xticks(fontproperties=prop, size=14);\n",
    "plt.yticks(fontproperties=prop, size=14);\n",
    "plt.xlabel('team', fontproperties=prop, size=16);\n",
    "plt.ylabel('Avg AST', fontproperties=prop, size=16);\n",
    "ax.set_title('assists', fontproperties=prop, size=24);\n",
    "plt.setp(ax.get_legend().get_texts(), fontproperties=prop) # for legend text\n",
    "plt.setp(ax.get_legend().get_title(), fontproperties=prop)\n",
    "\n",
    "plt.tight_layout()\n",
    "#plt.savefig(\"shaqpt.png\")"
   ]
  },
  {
   "cell_type": "code",
   "execution_count": null,
   "metadata": {},
   "outputs": [],
   "source": [
    "sns.set_style(\"whitegrid\", {'axes.grid' : False})\n",
    "#sns.set_style(\"ticks\", {\"xtick.major.size\": 8, \"ytick.major.size\": 8})\n",
    "ax = sns.lineplot(x=\"Tm\", y=\"TRB\", hue=\"Player\", data=data, marker='o', palette=sns.color_palette(\"Set2\")[:3], lw=3)\n",
    "ax.lines[0].set_markersize(10)\n",
    "ax.lines[1].set_markersize(10)\n",
    "ax.lines[2].set_markersize(10)\n",
    "#plt.setp(ax.get_legend().get_texts(), fontproperties=prop) # for legend text\n",
    "#plt.setp(ax.get_legend().get_title(), fontproperties=prop)\n",
    "prop = fm.FontProperties(fname='Liberator-Light.ttf')\n",
    "plt.xticks(fontproperties=prop, size=14);\n",
    "plt.yticks(fontproperties=prop, size=14);\n",
    "plt.xlabel('team', fontproperties=prop, size=16);\n",
    "plt.ylabel('Avg REB', fontproperties=prop, size=16);\n",
    "ax.set_title('rebounds', fontproperties=prop, size=24);\n",
    "plt.setp(ax.get_legend().get_texts(), fontproperties=prop) # for legend text\n",
    "plt.setp(ax.get_legend().get_title(), fontproperties=prop)\n",
    "\n",
    "plt.tight_layout()\n",
    "#plt.savefig(\"shaqpt.png\")"
   ]
  },
  {
   "cell_type": "code",
   "execution_count": null,
   "metadata": {},
   "outputs": [],
   "source": []
  }
 ],
 "metadata": {
  "kernelspec": {
   "display_name": "Python 3",
   "language": "python",
   "name": "python3"
  },
  "language_info": {
   "codemirror_mode": {
    "name": "ipython",
    "version": 3
   },
   "file_extension": ".py",
   "mimetype": "text/x-python",
   "name": "python",
   "nbconvert_exporter": "python",
   "pygments_lexer": "ipython3",
   "version": "3.6.9"
  }
 },
 "nbformat": 4,
 "nbformat_minor": 4
}
