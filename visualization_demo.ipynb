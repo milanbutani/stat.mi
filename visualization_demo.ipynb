{
 "cells": [
  {
   "cell_type": "code",
   "execution_count": 2,
   "metadata": {},
   "outputs": [],
   "source": [
    "import numpy as np\n",
    "import pandas as pd\n",
    "import matplotlib.pyplot as plt\n",
    "from datascience import *\n",
    "%matplotlib inline"
   ]
  },
  {
   "cell_type": "markdown",
   "metadata": {},
   "source": [
    "## Different Visualizations\n",
    "In this notebook, we will use data from the NBA to create various examples of different visualization types to get you familiar with them and how to create them. \n",
    "\n",
    "Refer to the comments in the code cells below for descriptions."
   ]
  },
  {
   "cell_type": "code",
   "execution_count": 3,
   "metadata": {},
   "outputs": [],
   "source": [
    "nba = Table.read_table('15-16.csv')"
   ]
  },
  {
   "cell_type": "code",
   "execution_count": 4,
   "metadata": {},
   "outputs": [
    {
     "data": {
      "text/html": [
       "<table border=\"1\" class=\"dataframe\">\n",
       "    <thead>\n",
       "        <tr>\n",
       "            <th>Player</th> <th>PTS</th> <th>AST</th> <th>3P</th> <th>FTA</th> <th>TRB</th> <th>TOV</th>\n",
       "        </tr>\n",
       "    </thead>\n",
       "    <tbody>\n",
       "        <tr>\n",
       "            <td>Quincy Acy\\acyqu01         </td> <td>5.2 </td> <td>0.5 </td> <td>0.3 </td> <td>1.2 </td> <td>3.2 </td> <td>0.5 </td>\n",
       "        </tr>\n",
       "        <tr>\n",
       "            <td>Jordan Adams\\adamsjo01     </td> <td>3.5 </td> <td>1.5 </td> <td>0   </td> <td>2.5 </td> <td>1   </td> <td>1   </td>\n",
       "        </tr>\n",
       "        <tr>\n",
       "            <td>Steven Adams\\adamsst01     </td> <td>8   </td> <td>0.8 </td> <td>0   </td> <td>2.5 </td> <td>6.7 </td> <td>1.1 </td>\n",
       "        </tr>\n",
       "        <tr>\n",
       "            <td>Arron Afflalo\\afflaar01    </td> <td>12.8</td> <td>2   </td> <td>1.3 </td> <td>1.8 </td> <td>3.7 </td> <td>1.2 </td>\n",
       "        </tr>\n",
       "        <tr>\n",
       "            <td>Alexis Ajinça\\ajincal01    </td> <td>6   </td> <td>0.5 </td> <td>0   </td> <td>1.1 </td> <td>4.6 </td> <td>0.9 </td>\n",
       "        </tr>\n",
       "        <tr>\n",
       "            <td>Cole Aldrich\\aldrico01     </td> <td>5.5 </td> <td>0.8 </td> <td>0   </td> <td>1.4 </td> <td>4.8 </td> <td>1.1 </td>\n",
       "        </tr>\n",
       "        <tr>\n",
       "            <td>LaMarcus Aldridge\\aldrila01</td> <td>18  </td> <td>1.5 </td> <td>0   </td> <td>4.1 </td> <td>8.5 </td> <td>1.3 </td>\n",
       "        </tr>\n",
       "        <tr>\n",
       "            <td>Cliff Alexander\\alexacl01  </td> <td>1.3 </td> <td>0   </td> <td>0   </td> <td>0   </td> <td>0.8 </td> <td>0.1 </td>\n",
       "        </tr>\n",
       "        <tr>\n",
       "            <td>Lavoy Allen\\allenla01      </td> <td>5.4 </td> <td>1   </td> <td>0   </td> <td>0.9 </td> <td>5.4 </td> <td>0.9 </td>\n",
       "        </tr>\n",
       "        <tr>\n",
       "            <td>Tony Allen\\allento01       </td> <td>8.4 </td> <td>1.1 </td> <td>0.2 </td> <td>2.2 </td> <td>4.6 </td> <td>1.2 </td>\n",
       "        </tr>\n",
       "    </tbody>\n",
       "</table>\n",
       "<p>... (568 rows omitted)</p>"
      ],
      "text/plain": [
       "Player                      | PTS  | AST  | 3P   | FTA  | TRB  | TOV\n",
       "Quincy Acy\\acyqu01          | 5.2  | 0.5  | 0.3  | 1.2  | 3.2  | 0.5\n",
       "Jordan Adams\\adamsjo01      | 3.5  | 1.5  | 0    | 2.5  | 1    | 1\n",
       "Steven Adams\\adamsst01      | 8    | 0.8  | 0    | 2.5  | 6.7  | 1.1\n",
       "Arron Afflalo\\afflaar01     | 12.8 | 2    | 1.3  | 1.8  | 3.7  | 1.2\n",
       "Alexis Ajinça\\ajincal01     | 6    | 0.5  | 0    | 1.1  | 4.6  | 0.9\n",
       "Cole Aldrich\\aldrico01      | 5.5  | 0.8  | 0    | 1.4  | 4.8  | 1.1\n",
       "LaMarcus Aldridge\\aldrila01 | 18   | 1.5  | 0    | 4.1  | 8.5  | 1.3\n",
       "Cliff Alexander\\alexacl01   | 1.3  | 0    | 0    | 0    | 0.8  | 0.1\n",
       "Lavoy Allen\\allenla01       | 5.4  | 1    | 0    | 0.9  | 5.4  | 0.9\n",
       "Tony Allen\\allento01        | 8.4  | 1.1  | 0.2  | 2.2  | 4.6  | 1.2\n",
       "... (568 rows omitted)"
      ]
     },
     "execution_count": 4,
     "metadata": {},
     "output_type": "execute_result"
    }
   ],
   "source": [
    "nba.select('Player', 'PTS', 'AST', '3P', 'FTA', 'TRB', 'TOV')"
   ]
  },
  {
   "cell_type": "markdown",
   "metadata": {},
   "source": [
    "## Scatterplot\n",
    "```table_name.scatter(x, y)``` creates a scatterplot for the table where ```x``` is plotted on the x-axis and ```y``` is plotted on the y-axis.\n",
    "\n",
    "Remember that scatterplots are useful to understand correlations and causations among two variables."
   ]
  },
  {
   "cell_type": "code",
   "execution_count": 6,
   "metadata": {},
   "outputs": [
    {
     "data": {
      "image/png": "[encoded data removed]",
      "text/plain": [
       "<Figure size 360x360 with 1 Axes>"
      ]
     },
     "metadata": {
      "needs_background": "light"
     },
     "output_type": "display_data"
    }
   ],
   "source": [
    "nba.scatter('AST', 'TOV')"
   ]
  },
  {
   "cell_type": "markdown",
   "metadata": {},
   "source": [
    "This next scatterplot is a bit more specific as it creates one only for the conditions where ```AST``` ```are.between(0, 2)```."
   ]
  },
  {
   "cell_type": "code",
   "execution_count": 7,
   "metadata": {},
   "outputs": [
    {
     "data": {
      "image/png": "[encoded data removed]",
      "text/plain": [
       "<Figure size 360x360 with 1 Axes>"
      ]
     },
     "metadata": {
      "needs_background": "light"
     },
     "output_type": "display_data"
    }
   ],
   "source": [
    "nba.where('AST', are.between(0, 2)).scatter('AST', 'TOV')"
   ]
  },
  {
   "cell_type": "markdown",
   "metadata": {},
   "source": [
    "## Lineplot \n",
    "```table_name.plot(x, y)``` creates a scatterplot for the table where ```x``` is plotted on the x-axis and ```y``` is plotted on the y-axis.\n",
    "\n",
    "Remember that line plots are useful to understand how a vairable changes over time."
   ]
  },
  {
   "cell_type": "code",
   "execution_count": 11,
   "metadata": {},
   "outputs": [
    {
     "data": {
      "text/html": [
       "<table border=\"1\" class=\"dataframe\">\n",
       "    <thead>\n",
       "        <tr>\n",
       "            <th>lg_id</th> <th>wins</th> <th>losses</th> <th>rank_team</th> <th>srs</th> <th>pace</th> <th>pace_rel</th> <th>off_rtg</th> <th>off_rtg_rel</th> <th>def_rtg</th> <th>def_rtg_rel</th> <th>team_id</th> <th>avg_age</th> <th>avg_ht</th> <th>avg_wt</th> <th>g</th> <th>mp</th> <th>fg</th> <th>fga</th> <th>fg_pct</th> <th>fg3</th> <th>fg3a</th> <th>fg3_pct</th> <th>fg2</th> <th>fg2a</th> <th>fg2_pct</th> <th>ft</th> <th>fta</th> <th>ft_pct</th> <th>orb</th> <th>drb</th> <th>trb</th> <th>ast</th> <th>stl</th> <th>blk</th> <th>tov</th> <th>pf</th> <th>pts</th> <th>opp_fg</th> <th>opp_fga</th> <th>opp_fg_pct</th> <th>opp_fg3</th> <th>opp_fg3a</th> <th>opp_fg3_pct</th> <th>opp_fg2</th> <th>opp_fg2a</th> <th>opp_fg2_pct</th> <th>opp_ft</th> <th>opp_fta</th> <th>opp_ft_pct</th> <th>opp_orb</th> <th>opp_drb</th> <th>opp_trb</th> <th>opp_ast</th> <th>opp_stl</th> <th>opp_blk</th> <th>opp_tov</th> <th>opp_pf</th> <th>opp_pts</th> <th>season</th> <th>year</th> <th>team</th>\n",
       "        </tr>\n",
       "    </thead>\n",
       "    <tbody>\n",
       "        <tr>\n",
       "            <td>NBA  </td> <td>35  </td> <td>47    </td> <td>2        </td> <td>-1.47</td> <td>110.8</td> <td>3       </td> <td>97.7   </td> <td>0          </td> <td>99     </td> <td>1.3        </td> <td>ATL    </td> <td>27.1   </td> <td>6-6   </td> <td>205   </td> <td>82  </td> <td>19755</td> <td>3602</td> <td>7744</td> <td>0.465 </td> <td>nan </td> <td>nan </td> <td>nan    </td> <td>3602</td> <td>7744</td> <td>0.465  </td> <td>1703</td> <td>2264</td> <td>0.752 </td> <td>1240</td> <td>2712</td> <td>3952</td> <td>1993</td> <td>758 </td> <td>332 </td> <td>1823</td> <td>2073</td> <td>8907</td> <td>3573  </td> <td>7628   </td> <td>0.468     </td> <td>nan    </td> <td>nan     </td> <td>nan        </td> <td>3573   </td> <td>7628    </td> <td>0.468      </td> <td>1878  </td> <td>2386   </td> <td>0.787     </td> <td>1142   </td> <td>2754   </td> <td>3896   </td> <td>2028   </td> <td>823    </td> <td>388    </td> <td>1846   </td> <td>2128  </td> <td>9024   </td> <td>1973-74</td> <td>1973</td> <td>ATL </td>\n",
       "        </tr>\n",
       "        <tr>\n",
       "            <td>NBA  </td> <td>54  </td> <td>28    </td> <td>2        </td> <td>3.2  </td> <td>105  </td> <td>-2.8    </td> <td>96.7   </td> <td>-1         </td> <td>93.6   </td> <td>-4.1       </td> <td>CHI    </td> <td>28.7   </td> <td>6-5   </td> <td>206   </td> <td>82  </td> <td>19780</td> <td>3292</td> <td>7378</td> <td>0.446 </td> <td>nan </td> <td>nan </td> <td>nan    </td> <td>3292</td> <td>7378</td> <td>0.446  </td> <td>1784</td> <td>2314</td> <td>0.771 </td> <td>1143</td> <td>2616</td> <td>3759</td> <td>1868</td> <td>764 </td> <td>316 </td> <td>1690</td> <td>1874</td> <td>8368</td> <td>3336  </td> <td>7246   </td> <td>0.46      </td> <td>nan    </td> <td>nan     </td> <td>nan        </td> <td>3336   </td> <td>7246    </td> <td>0.46       </td> <td>1425  </td> <td>1847   </td> <td>0.772     </td> <td>1136   </td> <td>2734   </td> <td>3870   </td> <td>1830   </td> <td>614    </td> <td>406    </td> <td>1880   </td> <td>2200  </td> <td>8097   </td> <td>1973-74</td> <td>1973</td> <td>CHI </td>\n",
       "        </tr>\n",
       "        <tr>\n",
       "            <td>NBA  </td> <td>29  </td> <td>53    </td> <td>4        </td> <td>-4.16</td> <td>104.1</td> <td>-3.7    </td> <td>96     </td> <td>-1.7       </td> <td>100.1  </td> <td>2.4        </td> <td>CLE    </td> <td>26.5   </td> <td>6-5   </td> <td>203   </td> <td>82  </td> <td>19755</td> <td>3420</td> <td>7782</td> <td>0.439 </td> <td>nan </td> <td>nan </td> <td>nan    </td> <td>3420</td> <td>7782</td> <td>0.439  </td> <td>1381</td> <td>1788</td> <td>0.772 </td> <td>1275</td> <td>2492</td> <td>3767</td> <td>2048</td> <td>598 </td> <td>293 </td> <td>1545</td> <td>1925</td> <td>8221</td> <td>3440  </td> <td>7342   </td> <td>0.469     </td> <td>nan    </td> <td>nan     </td> <td>nan        </td> <td>3440   </td> <td>7342    </td> <td>0.469      </td> <td>1696  </td> <td>2163   </td> <td>0.784     </td> <td>1137   </td> <td>2802   </td> <td>3939   </td> <td>2120   </td> <td>630    </td> <td>343    </td> <td>1654   </td> <td>1853  </td> <td>8576   </td> <td>1973-74</td> <td>1973</td> <td>CLE </td>\n",
       "        </tr>\n",
       "        <tr>\n",
       "            <td>ABA  </td> <td>37  </td> <td>47    </td> <td>5        </td> <td>-0.49</td> <td>103.2</td> <td>0.6     </td> <td>103.1  </td> <td>0.1        </td> <td>103.5  </td> <td>0.5        </td> <td>DNR    </td> <td>25.5   </td> <td>6-6   </td> <td>207   </td> <td>84  </td> <td>20285</td> <td>3553</td> <td>8042</td> <td>0.442 </td> <td>107 </td> <td>325 </td> <td>0.329  </td> <td>3446</td> <td>7717</td> <td>0.447  </td> <td>1776</td> <td>2271</td> <td>0.782 </td> <td>1455</td> <td>2697</td> <td>4152</td> <td>2004</td> <td>595 </td> <td>408 </td> <td>1477</td> <td>2079</td> <td>8989</td> <td>3670  </td> <td>7842   </td> <td>0.468     </td> <td>105    </td> <td>362     </td> <td>0.29       </td> <td>3565   </td> <td>7480    </td> <td>0.477      </td> <td>1587  </td> <td>2094   </td> <td>0.758     </td> <td>1237   </td> <td>2718   </td> <td>3955   </td> <td>2321   </td> <td>760    </td> <td>548    </td> <td>1417   </td> <td>2072  </td> <td>9032   </td> <td>1973-74</td> <td>1973</td> <td>DEN </td>\n",
       "        </tr>\n",
       "        <tr>\n",
       "            <td>NBA  </td> <td>52  </td> <td>30    </td> <td>3        </td> <td>4.02 </td> <td>106.5</td> <td>-1.3    </td> <td>97.6   </td> <td>-0.1       </td> <td>93.8   </td> <td>-3.9       </td> <td>DET    </td> <td>26.2   </td> <td>6-6   </td> <td>209   </td> <td>82  </td> <td>19755</td> <td>3453</td> <td>7515</td> <td>0.459 </td> <td>nan </td> <td>nan </td> <td>nan    </td> <td>3453</td> <td>7515</td> <td>0.459  </td> <td>1654</td> <td>2164</td> <td>0.764 </td> <td>1200</td> <td>2681</td> <td>3881</td> <td>1956</td> <td>793 </td> <td>419 </td> <td>1763</td> <td>1930</td> <td>8560</td> <td>3376  </td> <td>7499   </td> <td>0.45      </td> <td>nan    </td> <td>nan     </td> <td>nan        </td> <td>3376   </td> <td>7499    </td> <td>0.45       </td> <td>1475  </td> <td>1932   </td> <td>0.763     </td> <td>1173   </td> <td>2632   </td> <td>3805   </td> <td>1980   </td> <td>772    </td> <td>410    </td> <td>1822   </td> <td>1996  </td> <td>8227   </td> <td>1973-74</td> <td>1973</td> <td>DET </td>\n",
       "        </tr>\n",
       "    </tbody>\n",
       "</table>"
      ],
      "text/plain": [
       "lg_id | wins | losses | rank_team | srs   | pace  | pace_rel | off_rtg | off_rtg_rel | def_rtg | def_rtg_rel | team_id | avg_age | avg_ht | avg_wt | g    | mp    | fg   | fga  | fg_pct | fg3  | fg3a | fg3_pct | fg2  | fg2a | fg2_pct | ft   | fta  | ft_pct | orb  | drb  | trb  | ast  | stl  | blk  | tov  | pf   | pts  | opp_fg | opp_fga | opp_fg_pct | opp_fg3 | opp_fg3a | opp_fg3_pct | opp_fg2 | opp_fg2a | opp_fg2_pct | opp_ft | opp_fta | opp_ft_pct | opp_orb | opp_drb | opp_trb | opp_ast | opp_stl | opp_blk | opp_tov | opp_pf | opp_pts | season  | year | team\n",
       "NBA   | 35   | 47     | 2         | -1.47 | 110.8 | 3        | 97.7    | 0           | 99      | 1.3         | ATL     | 27.1    | 6-6    | 205    | 82   | 19755 | 3602 | 7744 | 0.465  | nan  | nan  | nan     | 3602 | 7744 | 0.465   | 1703 | 2264 | 0.752  | 1240 | 2712 | 3952 | 1993 | 758  | 332  | 1823 | 2073 | 8907 | 3573   | 7628    | 0.468      | nan     | nan      | nan         | 3573    | 7628     | 0.468       | 1878   | 2386    | 0.787      | 1142    | 2754    | 3896    | 2028    | 823     | 388     | 1846    | 2128   | 9024    | 1973-74 | 1973 | ATL\n",
       "NBA   | 54   | 28     | 2         | 3.2   | 105   | -2.8     | 96.7    | -1          | 93.6    | -4.1        | CHI     | 28.7    | 6-5    | 206    | 82   | 19780 | 3292 | 7378 | 0.446  | nan  | nan  | nan     | 3292 | 7378 | 0.446   | 1784 | 2314 | 0.771  | 1143 | 2616 | 3759 | 1868 | 764  | 316  | 1690 | 1874 | 8368 | 3336   | 7246    | 0.46       | nan     | nan      | nan         | 3336    | 7246     | 0.46        | 1425   | 1847    | 0.772      | 1136    | 2734    | 3870    | 1830    | 614     | 406     | 1880    | 2200   | 8097    | 1973-74 | 1973 | CHI\n",
       "NBA   | 29   | 53     | 4         | -4.16 | 104.1 | -3.7     | 96      | -1.7        | 100.1   | 2.4         | CLE     | 26.5    | 6-5    | 203    | 82   | 19755 | 3420 | 7782 | 0.439  | nan  | nan  | nan     | 3420 | 7782 | 0.439   | 1381 | 1788 | 0.772  | 1275 | 2492 | 3767 | 2048 | 598  | 293  | 1545 | 1925 | 8221 | 3440   | 7342    | 0.469      | nan     | nan      | nan         | 3440    | 7342     | 0.469       | 1696   | 2163    | 0.784      | 1137    | 2802    | 3939    | 2120    | 630     | 343     | 1654    | 1853   | 8576    | 1973-74 | 1973 | CLE\n",
       "ABA   | 37   | 47     | 5         | -0.49 | 103.2 | 0.6      | 103.1   | 0.1         | 103.5   | 0.5         | DNR     | 25.5    | 6-6    | 207    | 84   | 20285 | 3553 | 8042 | 0.442  | 107  | 325  | 0.329   | 3446 | 7717 | 0.447   | 1776 | 2271 | 0.782  | 1455 | 2697 | 4152 | 2004 | 595  | 408  | 1477 | 2079 | 8989 | 3670   | 7842    | 0.468      | 105     | 362      | 0.29        | 3565    | 7480     | 0.477       | 1587   | 2094    | 0.758      | 1237    | 2718    | 3955    | 2321    | 760     | 548     | 1417    | 2072   | 9032    | 1973-74 | 1973 | DEN\n",
       "NBA   | 52   | 30     | 3         | 4.02  | 106.5 | -1.3     | 97.6    | -0.1        | 93.8    | -3.9        | DET     | 26.2    | 6-6    | 209    | 82   | 19755 | 3453 | 7515 | 0.459  | nan  | nan  | nan     | 3453 | 7515 | 0.459   | 1654 | 2164 | 0.764  | 1200 | 2681 | 3881 | 1956 | 793  | 419  | 1763 | 1930 | 8560 | 3376   | 7499    | 0.45       | nan     | nan      | nan         | 3376    | 7499     | 0.45        | 1475   | 1932    | 0.763      | 1173    | 2632    | 3805    | 1980    | 772     | 410     | 1822    | 1996   | 8227    | 1973-74 | 1973 | DET"
      ]
     },
     "execution_count": 11,
     "metadata": {},
     "output_type": "execute_result"
    }
   ],
   "source": [
    "nba_time2 = Table.read_table('nba_team_season_data.csv')\n",
    "nba_time2.take(np.arange(5))"
   ]
  },
  {
   "cell_type": "code",
   "execution_count": 14,
   "metadata": {},
   "outputs": [
    {
     "data": {
      "text/html": [
       "<table border=\"1\" class=\"dataframe\">\n",
       "    <thead>\n",
       "        <tr>\n",
       "            <th>year</th> <th>wins sum</th>\n",
       "        </tr>\n",
       "    </thead>\n",
       "    <tbody>\n",
       "        <tr>\n",
       "            <td>1973</td> <td>880     </td>\n",
       "        </tr>\n",
       "        <tr>\n",
       "            <td>1974</td> <td>957     </td>\n",
       "        </tr>\n",
       "        <tr>\n",
       "            <td>1975</td> <td>942     </td>\n",
       "        </tr>\n",
       "        <tr>\n",
       "            <td>1976</td> <td>902     </td>\n",
       "        </tr>\n",
       "        <tr>\n",
       "            <td>1977</td> <td>902     </td>\n",
       "        </tr>\n",
       "        <tr>\n",
       "            <td>1978</td> <td>902     </td>\n",
       "        </tr>\n",
       "        <tr>\n",
       "            <td>1979</td> <td>902     </td>\n",
       "        </tr>\n",
       "        <tr>\n",
       "            <td>1980</td> <td>943     </td>\n",
       "        </tr>\n",
       "        <tr>\n",
       "            <td>1981</td> <td>943     </td>\n",
       "        </tr>\n",
       "        <tr>\n",
       "            <td>1982</td> <td>943     </td>\n",
       "        </tr>\n",
       "    </tbody>\n",
       "</table>\n",
       "<p>... (35 rows omitted)</p>"
      ],
      "text/plain": [
       "year | wins sum\n",
       "1973 | 880\n",
       "1974 | 957\n",
       "1975 | 942\n",
       "1976 | 902\n",
       "1977 | 902\n",
       "1978 | 902\n",
       "1979 | 902\n",
       "1980 | 943\n",
       "1981 | 943\n",
       "1982 | 943\n",
       "... (35 rows omitted)"
      ]
     },
     "execution_count": 14,
     "metadata": {},
     "output_type": "execute_result"
    }
   ],
   "source": [
    "nba_time = nba_time2.group('year', np.sum).select('year', 'wins sum')\n",
    "nba_time"
   ]
  },
  {
   "cell_type": "markdown",
   "metadata": {},
   "source": [
    "The plot below shows how the wins change by the year over the span of 1973-2019."
   ]
  },
  {
   "cell_type": "code",
   "execution_count": 16,
   "metadata": {},
   "outputs": [
    {
     "data": {
      "image/png": "[encoded data removed]",
      "text/plain": [
       "<Figure size 432x288 with 1 Axes>"
      ]
     },
     "metadata": {
      "needs_background": "light"
     },
     "output_type": "display_data"
    }
   ],
   "source": [
    "nba_time.plot('year', 'wins sum')"
   ]
  },
  {
   "cell_type": "markdown",
   "metadata": {},
   "source": [
    "## Barplot\n",
    "```table_name.barh(x)``` creates a scatterplot for the table where ```x``` are the categories or groups.\n",
    "\n",
    "Remember that barplots are useful to understand categories vary."
   ]
  },
  {
   "cell_type": "code",
   "execution_count": 17,
   "metadata": {},
   "outputs": [
    {
     "data": {
      "text/html": [
       "<table border=\"1\" class=\"dataframe\">\n",
       "    <thead>\n",
       "        <tr>\n",
       "            <th>Pos</th> <th>count</th>\n",
       "        </tr>\n",
       "    </thead>\n",
       "    <tbody>\n",
       "        <tr>\n",
       "            <td>C    </td> <td>104  </td>\n",
       "        </tr>\n",
       "        <tr>\n",
       "            <td>PF   </td> <td>122  </td>\n",
       "        </tr>\n",
       "        <tr>\n",
       "            <td>PF-C </td> <td>1    </td>\n",
       "        </tr>\n",
       "        <tr>\n",
       "            <td>PG   </td> <td>129  </td>\n",
       "        </tr>\n",
       "        <tr>\n",
       "            <td>SF   </td> <td>105  </td>\n",
       "        </tr>\n",
       "        <tr>\n",
       "            <td>SG   </td> <td>116  </td>\n",
       "        </tr>\n",
       "        <tr>\n",
       "            <td>SG-SF</td> <td>1    </td>\n",
       "        </tr>\n",
       "    </tbody>\n",
       "</table>"
      ],
      "text/plain": [
       "Pos   | count\n",
       "C     | 104\n",
       "PF    | 122\n",
       "PF-C  | 1\n",
       "PG    | 129\n",
       "SF    | 105\n",
       "SG    | 116\n",
       "SG-SF | 1"
      ]
     },
     "execution_count": 17,
     "metadata": {},
     "output_type": "execute_result"
    }
   ],
   "source": [
    "nba.group('Pos')"
   ]
  },
  {
   "cell_type": "markdown",
   "metadata": {},
   "source": [
    "Below is a barplot plotting the count of players who fall in a given position in basketball."
   ]
  },
  {
   "cell_type": "code",
   "execution_count": 19,
   "metadata": {},
   "outputs": [
    {
     "data": {
      "image/png": "[encoded data removed]",
      "text/plain": [
       "<Figure size 432x288 with 1 Axes>"
      ]
     },
     "metadata": {
      "needs_background": "light"
     },
     "output_type": "display_data"
    }
   ],
   "source": [
    "nba.group('Pos').barh('Pos')"
   ]
  },
  {
   "cell_type": "markdown",
   "metadata": {},
   "source": [
    "## Histogram"
   ]
  },
  {
   "cell_type": "markdown",
   "metadata": {},
   "source": [
    "```table_name.hist(x, units=y, bins=z)``` creates a scatterplot for the table where ```x``` is plotted on the x-axis, ```y``` is the units, and ```z``` specifies how the bins are created.\n",
    "\n",
    "Remember that histograms are defined by the bins and are important to see how a variable is distributed in the dataset."
   ]
  },
  {
   "cell_type": "code",
   "execution_count": 20,
   "metadata": {},
   "outputs": [
    {
     "data": {
      "text/html": [
       "<table border=\"1\" class=\"dataframe\">\n",
       "    <thead>\n",
       "        <tr>\n",
       "            <th>PTS</th>\n",
       "        </tr>\n",
       "    </thead>\n",
       "    <tbody>\n",
       "        <tr>\n",
       "            <td>5.2 </td>\n",
       "        </tr>\n",
       "        <tr>\n",
       "            <td>3.5 </td>\n",
       "        </tr>\n",
       "        <tr>\n",
       "            <td>8   </td>\n",
       "        </tr>\n",
       "        <tr>\n",
       "            <td>12.8</td>\n",
       "        </tr>\n",
       "        <tr>\n",
       "            <td>6   </td>\n",
       "        </tr>\n",
       "        <tr>\n",
       "            <td>5.5 </td>\n",
       "        </tr>\n",
       "        <tr>\n",
       "            <td>18  </td>\n",
       "        </tr>\n",
       "        <tr>\n",
       "            <td>1.3 </td>\n",
       "        </tr>\n",
       "        <tr>\n",
       "            <td>5.4 </td>\n",
       "        </tr>\n",
       "        <tr>\n",
       "            <td>8.4 </td>\n",
       "        </tr>\n",
       "    </tbody>\n",
       "</table>\n",
       "<p>... (568 rows omitted)</p>"
      ],
      "text/plain": [
       "PTS\n",
       "5.2\n",
       "3.5\n",
       "8\n",
       "12.8\n",
       "6\n",
       "5.5\n",
       "18\n",
       "1.3\n",
       "5.4\n",
       "8.4\n",
       "... (568 rows omitted)"
      ]
     },
     "execution_count": 20,
     "metadata": {},
     "output_type": "execute_result"
    }
   ],
   "source": [
    "nba.select('PTS')"
   ]
  },
  {
   "cell_type": "code",
   "execution_count": 21,
   "metadata": {},
   "outputs": [
    {
     "data": {
      "image/png": "[encoded data removed]",
      "text/plain": [
       "<Figure size 432x288 with 1 Axes>"
      ]
     },
     "metadata": {
      "needs_background": "light"
     },
     "output_type": "display_data"
    }
   ],
   "source": [
    "nba.select('PTS').hist('PTS')"
   ]
  },
  {
   "cell_type": "markdown",
   "metadata": {},
   "source": [
    "Now lets specify that ```units='per game``` and that we want ```bins=20```, meaning we will have 20 bins."
   ]
  },
  {
   "cell_type": "code",
   "execution_count": 22,
   "metadata": {},
   "outputs": [
    {
     "data": {
      "image/png": "[encoded data removed]",
      "text/plain": [
       "<Figure size 432x288 with 1 Axes>"
      ]
     },
     "metadata": {
      "needs_background": "light"
     },
     "output_type": "display_data"
    }
   ],
   "source": [
    "nba.select('PTS').hist('PTS', unit='per game', bins=20)"
   ]
  }
 ],
 "metadata": {
  "kernelspec": {
   "display_name": "Python 3",
   "language": "python",
   "name": "python3"
  },
  "language_info": {
   "codemirror_mode": {
    "name": "ipython",
    "version": 3
   },
   "file_extension": ".py",
   "mimetype": "text/x-python",
   "name": "python",
   "nbconvert_exporter": "python",
   "pygments_lexer": "ipython3",
   "version": "3.6.8"
  }
 },
 "nbformat": 4,
 "nbformat_minor": 2
}
