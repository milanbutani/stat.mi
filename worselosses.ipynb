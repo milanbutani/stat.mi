{
 "cells": [
  {
   "cell_type": "code",
   "execution_count": 64,
   "metadata": {},
   "outputs": [],
   "source": [
    "import pandas as pd\n",
    "import numpy as np\n",
    "import seaborn as sns\n",
    "from matplotlib import pyplot as plt"
   ]
  },
  {
   "cell_type": "code",
   "execution_count": 65,
   "metadata": {},
   "outputs": [],
   "source": [
    "#import data\n",
    "mil = pd.read_csv('bucks.csv')\n",
    "lak = pd.read_csv('lakers.csv')\n",
    "rap = pd.read_csv('raps.csv')\n",
    "nug = pd.read_csv('nuggets.csv')\n",
    "cli = pd.read_csv('clips.csv')\n",
    "bos = pd.read_csv('bos.csv')\n",
    "hea = pd.read_csv('mia.csv')\n",
    "roc = pd.read_csv('rockets.csv')\n",
    "jaz = pd.read_csv('jazz.csv')\n",
    "mav = pd.read_csv('mavs.csv')\n",
    "data_array = [mil, lak, rap, nug, cli, bos, hea, roc, jaz, mav]"
   ]
  },
  {
   "cell_type": "code",
   "execution_count": 66,
   "metadata": {},
   "outputs": [],
   "source": [
    "#change column titles\n",
    "col_general = ['Rk', 'G', 'Date', 'Home?', 'Opp', 'W/L',\n",
    "               'TmScore', 'OppScore', 'FG', 'FGA', 'FG%',\n",
    "               '3P', '3PA', '3P%', 'FT', 'FTA', 'FT%', 'ORB',\n",
    "               'TRB', 'AST', 'STL', 'BLK', 'TOV', 'PF', 'None',\n",
    "               'FGo', 'FGAo', 'FG%o', '3Po', '3PAo', '3P%o', 'FTo', \n",
    "               'FTAo', 'FT%o', 'ORBo', 'TRBo', 'ASTo', 'STLo', 'BLKo', \n",
    "               'TOVo', 'PFo']"
   ]
  },
  {
   "cell_type": "code",
   "execution_count": 67,
   "metadata": {},
   "outputs": [],
   "source": [
    "for i in data_array:\n",
    "    #new column titles\n",
    "    i.columns = col_general\n",
    "    #drop unnecessary first row, which is a repeat of columns\n",
    "    i.drop(axis=0, index=0, inplace=True)"
   ]
  },
  {
   "cell_type": "code",
   "execution_count": 68,
   "metadata": {},
   "outputs": [
    {
     "data": {
      "text/html": [
       "<div>\n",
       "<style scoped>\n",
       "    .dataframe tbody tr th:only-of-type {\n",
       "        vertical-align: middle;\n",
       "    }\n",
       "\n",
       "    .dataframe tbody tr th {\n",
       "        vertical-align: top;\n",
       "    }\n",
       "\n",
       "    .dataframe thead th {\n",
       "        text-align: right;\n",
       "    }\n",
       "</style>\n",
       "<table border=\"1\" class=\"dataframe\">\n",
       "  <thead>\n",
       "    <tr style=\"text-align: right;\">\n",
       "      <th></th>\n",
       "      <th>Rk</th>\n",
       "      <th>G</th>\n",
       "      <th>Date</th>\n",
       "      <th>Home?</th>\n",
       "      <th>Opp</th>\n",
       "      <th>W/L</th>\n",
       "      <th>TmScore</th>\n",
       "      <th>OppScore</th>\n",
       "      <th>FG</th>\n",
       "      <th>FGA</th>\n",
       "      <th>...</th>\n",
       "      <th>FTo</th>\n",
       "      <th>FTAo</th>\n",
       "      <th>FT%o</th>\n",
       "      <th>ORBo</th>\n",
       "      <th>TRBo</th>\n",
       "      <th>ASTo</th>\n",
       "      <th>STLo</th>\n",
       "      <th>BLKo</th>\n",
       "      <th>TOVo</th>\n",
       "      <th>PFo</th>\n",
       "    </tr>\n",
       "  </thead>\n",
       "  <tbody>\n",
       "    <tr>\n",
       "      <th>1</th>\n",
       "      <td>1</td>\n",
       "      <td>1</td>\n",
       "      <td>2019-10-24</td>\n",
       "      <td>@</td>\n",
       "      <td>HOU</td>\n",
       "      <td>W</td>\n",
       "      <td>117</td>\n",
       "      <td>111</td>\n",
       "      <td>46</td>\n",
       "      <td>99</td>\n",
       "      <td>...</td>\n",
       "      <td>29</td>\n",
       "      <td>39</td>\n",
       "      <td>.744</td>\n",
       "      <td>10</td>\n",
       "      <td>57</td>\n",
       "      <td>25</td>\n",
       "      <td>6</td>\n",
       "      <td>6</td>\n",
       "      <td>14</td>\n",
       "      <td>25</td>\n",
       "    </tr>\n",
       "    <tr>\n",
       "      <th>2</th>\n",
       "      <td>2</td>\n",
       "      <td>2</td>\n",
       "      <td>2019-10-26</td>\n",
       "      <td>NaN</td>\n",
       "      <td>MIA</td>\n",
       "      <td>L</td>\n",
       "      <td>126</td>\n",
       "      <td>131</td>\n",
       "      <td>41</td>\n",
       "      <td>94</td>\n",
       "      <td>...</td>\n",
       "      <td>23</td>\n",
       "      <td>36</td>\n",
       "      <td>.639</td>\n",
       "      <td>8</td>\n",
       "      <td>54</td>\n",
       "      <td>33</td>\n",
       "      <td>7</td>\n",
       "      <td>3</td>\n",
       "      <td>16</td>\n",
       "      <td>30</td>\n",
       "    </tr>\n",
       "    <tr>\n",
       "      <th>3</th>\n",
       "      <td>3</td>\n",
       "      <td>3</td>\n",
       "      <td>2019-10-28</td>\n",
       "      <td>NaN</td>\n",
       "      <td>CLE</td>\n",
       "      <td>W</td>\n",
       "      <td>129</td>\n",
       "      <td>112</td>\n",
       "      <td>48</td>\n",
       "      <td>92</td>\n",
       "      <td>...</td>\n",
       "      <td>10</td>\n",
       "      <td>12</td>\n",
       "      <td>.833</td>\n",
       "      <td>10</td>\n",
       "      <td>48</td>\n",
       "      <td>19</td>\n",
       "      <td>2</td>\n",
       "      <td>3</td>\n",
       "      <td>11</td>\n",
       "      <td>22</td>\n",
       "    </tr>\n",
       "    <tr>\n",
       "      <th>4</th>\n",
       "      <td>4</td>\n",
       "      <td>4</td>\n",
       "      <td>2019-10-30</td>\n",
       "      <td>@</td>\n",
       "      <td>BOS</td>\n",
       "      <td>L</td>\n",
       "      <td>105</td>\n",
       "      <td>116</td>\n",
       "      <td>38</td>\n",
       "      <td>82</td>\n",
       "      <td>...</td>\n",
       "      <td>17</td>\n",
       "      <td>21</td>\n",
       "      <td>.810</td>\n",
       "      <td>5</td>\n",
       "      <td>45</td>\n",
       "      <td>25</td>\n",
       "      <td>4</td>\n",
       "      <td>4</td>\n",
       "      <td>9</td>\n",
       "      <td>20</td>\n",
       "    </tr>\n",
       "    <tr>\n",
       "      <th>5</th>\n",
       "      <td>5</td>\n",
       "      <td>5</td>\n",
       "      <td>2019-11-01</td>\n",
       "      <td>@</td>\n",
       "      <td>ORL</td>\n",
       "      <td>W</td>\n",
       "      <td>123</td>\n",
       "      <td>91</td>\n",
       "      <td>47</td>\n",
       "      <td>93</td>\n",
       "      <td>...</td>\n",
       "      <td>11</td>\n",
       "      <td>17</td>\n",
       "      <td>.647</td>\n",
       "      <td>10</td>\n",
       "      <td>40</td>\n",
       "      <td>21</td>\n",
       "      <td>8</td>\n",
       "      <td>3</td>\n",
       "      <td>16</td>\n",
       "      <td>16</td>\n",
       "    </tr>\n",
       "  </tbody>\n",
       "</table>\n",
       "<p>5 rows × 41 columns</p>\n",
       "</div>"
      ],
      "text/plain": [
       "  Rk  G        Date Home?  Opp W/L TmScore OppScore  FG FGA ... FTo FTAo  \\\n",
       "1  1  1  2019-10-24     @  HOU   W     117      111  46  99 ...  29   39   \n",
       "2  2  2  2019-10-26   NaN  MIA   L     126      131  41  94 ...  23   36   \n",
       "3  3  3  2019-10-28   NaN  CLE   W     129      112  48  92 ...  10   12   \n",
       "4  4  4  2019-10-30     @  BOS   L     105      116  38  82 ...  17   21   \n",
       "5  5  5  2019-11-01     @  ORL   W     123       91  47  93 ...  11   17   \n",
       "\n",
       "   FT%o ORBo TRBo ASTo STLo BLKo TOVo PFo  \n",
       "1  .744   10   57   25    6    6   14  25  \n",
       "2  .639    8   54   33    7    3   16  30  \n",
       "3  .833   10   48   19    2    3   11  22  \n",
       "4  .810    5   45   25    4    4    9  20  \n",
       "5  .647   10   40   21    8    3   16  16  \n",
       "\n",
       "[5 rows x 41 columns]"
      ]
     },
     "execution_count": 68,
     "metadata": {},
     "output_type": "execute_result"
    }
   ],
   "source": [
    "#now the data looks like:\n",
    "mil.head()"
   ]
  },
  {
   "cell_type": "code",
   "execution_count": 69,
   "metadata": {},
   "outputs": [],
   "source": [
    "names_array = ['Mil', 'Lak', 'Tor', 'Den', 'Lac', 'Bos', 'Mia', 'Hou', 'Uta', 'Dal']\n",
    "losses_array = [sum(i['W/L'] == 'L') for i in data_array]"
   ]
  },
  {
   "cell_type": "code",
   "execution_count": 70,
   "metadata": {},
   "outputs": [
    {
     "data": {
      "text/plain": [
       "[7, 11, 14, 16, 15, 15, 16, 18, 18, 20]"
      ]
     },
     "execution_count": 70,
     "metadata": {},
     "output_type": "execute_result"
    }
   ],
   "source": [
    "losses_array"
   ]
  },
  {
   "cell_type": "code",
   "execution_count": 71,
   "metadata": {},
   "outputs": [
    {
     "name": "stderr",
     "output_type": "stream",
     "text": [
      "/srv/app/venv/lib/python3.6/site-packages/ipykernel_launcher.py:11: SettingWithCopyWarning: \n",
      "A value is trying to be set on a copy of a slice from a DataFrame.\n",
      "Try using .loc[row_indexer,col_indexer] = value instead\n",
      "\n",
      "See the caveats in the documentation: http://pandas.pydata.org/pandas-docs/stable/indexing.html#indexing-view-versus-copy\n",
      "  # This is added back by InteractiveShellApp.init_path()\n",
      "/srv/app/venv/lib/python3.6/site-packages/ipykernel_launcher.py:12: SettingWithCopyWarning: \n",
      "A value is trying to be set on a copy of a slice from a DataFrame.\n",
      "Try using .loc[row_indexer,col_indexer] = value instead\n",
      "\n",
      "See the caveats in the documentation: http://pandas.pydata.org/pandas-docs/stable/indexing.html#indexing-view-versus-copy\n",
      "  if sys.path[0] == '':\n"
     ]
    },
    {
     "data": {
      "text/plain": [
       "[9.857142857142858,\n",
       " 11.818181818181818,\n",
       " 8.142857142857142,\n",
       " 9.5,\n",
       " 11.333333333333334,\n",
       " 8.133333333333333,\n",
       " 11.6875,\n",
       " 10.166666666666666,\n",
       " 9.666666666666666,\n",
       " 7.75]"
      ]
     },
     "execution_count": 71,
     "metadata": {},
     "output_type": "execute_result"
    }
   ],
   "source": [
    "# bucks lost less games than the others, but are they worse losses or not? \n",
    "# first metric is score difference, how much did they lose by?\n",
    "def num(s):\n",
    "    try:\n",
    "        return int(s)\n",
    "    except ValueError:\n",
    "        return float(s)\n",
    "\n",
    "def loss_difference(team):\n",
    "    losses = team[team['W/L'] == 'L']\n",
    "    losses['OppScore'] = losses['OppScore'].apply(num)\n",
    "    losses['TmScore'] = losses['TmScore'].apply(num)\n",
    "    score_difference = losses['OppScore'] - losses['TmScore']\n",
    "    return np.mean(score_difference)\n",
    "\n",
    "difference_array = [loss_difference(i) for i in data_array]\n",
    "difference_array"
   ]
  },
  {
   "cell_type": "code",
   "execution_count": 72,
   "metadata": {},
   "outputs": [
    {
     "data": {
      "text/plain": [
       "[('Mil', 7, 9.857142857142858),\n",
       " ('Lak', 11, 11.818181818181818),\n",
       " ('Tor', 14, 8.142857142857142),\n",
       " ('Den', 16, 9.5),\n",
       " ('Lac', 15, 11.333333333333334),\n",
       " ('Bos', 15, 8.133333333333333),\n",
       " ('Mia', 16, 11.6875),\n",
       " ('Hou', 18, 10.166666666666666),\n",
       " ('Uta', 18, 9.666666666666666),\n",
       " ('Dal', 20, 7.75)]"
      ]
     },
     "execution_count": 72,
     "metadata": {},
     "output_type": "execute_result"
    }
   ],
   "source": [
    "team_data = list(zip(names_array, losses_array, difference_array))\n",
    "team_data"
   ]
  },
  {
   "cell_type": "code",
   "execution_count": 73,
   "metadata": {},
   "outputs": [
    {
     "data": {
      "text/html": [
       "<div>\n",
       "<style scoped>\n",
       "    .dataframe tbody tr th:only-of-type {\n",
       "        vertical-align: middle;\n",
       "    }\n",
       "\n",
       "    .dataframe tbody tr th {\n",
       "        vertical-align: top;\n",
       "    }\n",
       "\n",
       "    .dataframe thead th {\n",
       "        text-align: right;\n",
       "    }\n",
       "</style>\n",
       "<table border=\"1\" class=\"dataframe\">\n",
       "  <thead>\n",
       "    <tr style=\"text-align: right;\">\n",
       "      <th></th>\n",
       "      <th>Team Name</th>\n",
       "      <th>Number of Losses</th>\n",
       "      <th>Score Difference</th>\n",
       "    </tr>\n",
       "  </thead>\n",
       "  <tbody>\n",
       "    <tr>\n",
       "      <th>0</th>\n",
       "      <td>Mil</td>\n",
       "      <td>7</td>\n",
       "      <td>9.857143</td>\n",
       "    </tr>\n",
       "    <tr>\n",
       "      <th>1</th>\n",
       "      <td>Lak</td>\n",
       "      <td>11</td>\n",
       "      <td>11.818182</td>\n",
       "    </tr>\n",
       "    <tr>\n",
       "      <th>2</th>\n",
       "      <td>Tor</td>\n",
       "      <td>14</td>\n",
       "      <td>8.142857</td>\n",
       "    </tr>\n",
       "    <tr>\n",
       "      <th>3</th>\n",
       "      <td>Den</td>\n",
       "      <td>16</td>\n",
       "      <td>9.500000</td>\n",
       "    </tr>\n",
       "    <tr>\n",
       "      <th>4</th>\n",
       "      <td>Lac</td>\n",
       "      <td>15</td>\n",
       "      <td>11.333333</td>\n",
       "    </tr>\n",
       "    <tr>\n",
       "      <th>5</th>\n",
       "      <td>Bos</td>\n",
       "      <td>15</td>\n",
       "      <td>8.133333</td>\n",
       "    </tr>\n",
       "    <tr>\n",
       "      <th>6</th>\n",
       "      <td>Mia</td>\n",
       "      <td>16</td>\n",
       "      <td>11.687500</td>\n",
       "    </tr>\n",
       "    <tr>\n",
       "      <th>7</th>\n",
       "      <td>Hou</td>\n",
       "      <td>18</td>\n",
       "      <td>10.166667</td>\n",
       "    </tr>\n",
       "    <tr>\n",
       "      <th>8</th>\n",
       "      <td>Uta</td>\n",
       "      <td>18</td>\n",
       "      <td>9.666667</td>\n",
       "    </tr>\n",
       "    <tr>\n",
       "      <th>9</th>\n",
       "      <td>Dal</td>\n",
       "      <td>20</td>\n",
       "      <td>7.750000</td>\n",
       "    </tr>\n",
       "  </tbody>\n",
       "</table>\n",
       "</div>"
      ],
      "text/plain": [
       "  Team Name  Number of Losses  Score Difference\n",
       "0       Mil                 7          9.857143\n",
       "1       Lak                11         11.818182\n",
       "2       Tor                14          8.142857\n",
       "3       Den                16          9.500000\n",
       "4       Lac                15         11.333333\n",
       "5       Bos                15          8.133333\n",
       "6       Mia                16         11.687500\n",
       "7       Hou                18         10.166667\n",
       "8       Uta                18          9.666667\n",
       "9       Dal                20          7.750000"
      ]
     },
     "execution_count": 73,
     "metadata": {},
     "output_type": "execute_result"
    }
   ],
   "source": [
    "visualize = pd.DataFrame(team_data, columns=['Team Name', 'Number of Losses', 'Score Difference'])\n",
    "visualize"
   ]
  },
  {
   "cell_type": "code",
   "execution_count": 83,
   "metadata": {},
   "outputs": [
    {
     "data": {
      "image/png": "[encoded data removed]",
      "text/plain": [
       "<Figure size 432x288 with 1 Axes>"
      ]
     },
     "metadata": {
      "needs_background": "light"
     },
     "output_type": "display_data"
    }
   ],
   "source": [
    "ax = sns.scatterplot(x = 'Number of Losses', y = 'Score Difference', hue='Team Name', data=visualize);\n",
    "ax.legend(loc='upper left', bbox_to_anchor=(-0.2, -0.15),fancybox=True, shadow=True, ncol=5);\n",
    "ax.set_title('Average Number of Points Lost By');\n",
    "ax.figure.savefig('losses.png')"
   ]
  },
  {
   "cell_type": "code",
   "execution_count": null,
   "metadata": {},
   "outputs": [],
   "source": []
  }
 ],
 "metadata": {
  "kernelspec": {
   "display_name": "Python 3",
   "language": "python",
   "name": "python3"
  },
  "language_info": {
   "codemirror_mode": {
    "name": "ipython",
    "version": 3
   },
   "file_extension": ".py",
   "mimetype": "text/x-python",
   "name": "python",
   "nbconvert_exporter": "python",
   "pygments_lexer": "ipython3",
   "version": "3.6.9"
  }
 },
 "nbformat": 4,
 "nbformat_minor": 4
}
