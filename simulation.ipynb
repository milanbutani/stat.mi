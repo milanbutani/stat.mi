{
 "cells": [
  {
   "cell_type": "code",
   "execution_count": 1,
   "metadata": {},
   "outputs": [],
   "source": [
    "import pandas as pd\n",
    "import numpy as np\n",
    "import seaborn as sns\n",
    "import matplotlib.pyplot as plt\n",
    "\n",
    "%matplotlib inline\n",
    "\n",
    "# simulates a coin flip with head probability p \n",
    "def coin_flip(p):\n",
    "    return np.random.choice(2, p=[1 - p, p])"
   ]
  },
  {
   "cell_type": "code",
   "execution_count": 2,
   "metadata": {},
   "outputs": [],
   "source": [
    "def sim_pos(performance):\n",
    "    # Simulates one possession in a game\n",
    "    # Probability of en event in performance\n",
    "    prob = [performance['ft_rate'],\n",
    "         performance['fg2_rate'],\n",
    "         performance['fg3_rate'],\n",
    "         performance['tov_rate']]\n",
    "    # One of the above events occur with corresponding probability\n",
    "    event = np.random.choice(['ft', 'fg2', 'fg3', 'tov'], p=prob)\n",
    "    # Return the result of the event playing out\n",
    "    return event_outcome(event, performance)\n",
    "    \n",
    "def freethrow(performance):\n",
    "    # Returns outcome of two free throws\n",
    "    return coin_flip(performance['ft_pct']) + coin_flip(performance['ft_pct'])\n",
    "\n",
    "def two(performance):\n",
    "    # Returns outcome of a two point shot\n",
    "    return 2 * coin_flip(performance['fg2_pct'])\n",
    "\n",
    "def three(performance):\n",
    "    # Returns outcome of a three point shot\n",
    "    return 3 * coin_flip(performance['fg3_pct'])\n",
    "    \n",
    "def event_outcome(event, performance):\n",
    "    if event == 'ft':\n",
    "        return event, freethrow(performance)\n",
    "    if event == 'fg2':\n",
    "        return event, two(performance)\n",
    "    if event == 'fg3':\n",
    "        return event, three(performance)\n",
    "    else:\n",
    "        # There is a turnover, hence no points\n",
    "        return event, 0"
   ]
  },
  {
   "cell_type": "code",
   "execution_count": 22,
   "metadata": {},
   "outputs": [],
   "source": [
    "def sim_game(performance):\n",
    "    # Simulates a games number of game\n",
    "    # Average 100 possessions per team in NBA game\n",
    "    outcomes = []\n",
    "    for i in np.arange(100):\n",
    "        event, points = sim_pos(performance)\n",
    "        outcomes.append({'event': event, 'points': points})\n",
    "    # turn outcomes into a DataFrame:\n",
    "    game = pd.DataFrame(outcomes)\n",
    "    return game"
   ]
  },
  {
   "cell_type": "code",
   "execution_count": 23,
   "metadata": {},
   "outputs": [
    {
     "data": {
      "text/plain": [
       "fg2_rate    0.40\n",
       "fg3_rate    0.50\n",
       "ft_rate     0.05\n",
       "tov_rate    0.05\n",
       "fg2_pct     0.50\n",
       "fg3_pct     0.45\n",
       "ft_pct      0.92\n",
       "dtype: float64"
      ]
     },
     "execution_count": 23,
     "metadata": {},
     "output_type": "execute_result"
    }
   ],
   "source": [
    "# Say your team is full of Steph Curries where you shoot\n",
    "# 30% 2 pointers, 60% three pointers, turn the ball over \n",
    "# 5% of the time, and shoot free throws 5% of the time.\n",
    "\n",
    "# A player has a 50% field goal percentage, 45% three point percentage\n",
    "# and a 92% free throw percentage\n",
    "\n",
    "# Then your performance is:\n",
    "curries = pd.Series(\n",
    "            [0.4, 0.5, 0.05, 0.05, .5, .45, .92],\n",
    "        index=['fg2_rate', 'fg3_rate', 'ft_rate', 'tov_rate', 'fg2_pct', 'fg3_pct', 'ft_pct'])\n",
    "\n",
    "curries"
   ]
  },
  {
   "cell_type": "code",
   "execution_count": 26,
   "metadata": {},
   "outputs": [
    {
     "data": {
      "text/html": [
       "<div>\n",
       "<style scoped>\n",
       "    .dataframe tbody tr th:only-of-type {\n",
       "        vertical-align: middle;\n",
       "    }\n",
       "\n",
       "    .dataframe tbody tr th {\n",
       "        vertical-align: top;\n",
       "    }\n",
       "\n",
       "    .dataframe thead th {\n",
       "        text-align: right;\n",
       "    }\n",
       "</style>\n",
       "<table border=\"1\" class=\"dataframe\">\n",
       "  <thead>\n",
       "    <tr style=\"text-align: right;\">\n",
       "      <th></th>\n",
       "      <th>event</th>\n",
       "      <th>points</th>\n",
       "    </tr>\n",
       "  </thead>\n",
       "  <tbody>\n",
       "    <tr>\n",
       "      <th>0</th>\n",
       "      <td>fg3</td>\n",
       "      <td>3</td>\n",
       "    </tr>\n",
       "    <tr>\n",
       "      <th>1</th>\n",
       "      <td>fg2</td>\n",
       "      <td>2</td>\n",
       "    </tr>\n",
       "    <tr>\n",
       "      <th>2</th>\n",
       "      <td>fg2</td>\n",
       "      <td>2</td>\n",
       "    </tr>\n",
       "    <tr>\n",
       "      <th>3</th>\n",
       "      <td>fg3</td>\n",
       "      <td>0</td>\n",
       "    </tr>\n",
       "    <tr>\n",
       "      <th>4</th>\n",
       "      <td>fg3</td>\n",
       "      <td>0</td>\n",
       "    </tr>\n",
       "    <tr>\n",
       "      <th>5</th>\n",
       "      <td>fg3</td>\n",
       "      <td>0</td>\n",
       "    </tr>\n",
       "    <tr>\n",
       "      <th>6</th>\n",
       "      <td>fg2</td>\n",
       "      <td>2</td>\n",
       "    </tr>\n",
       "    <tr>\n",
       "      <th>7</th>\n",
       "      <td>fg2</td>\n",
       "      <td>2</td>\n",
       "    </tr>\n",
       "    <tr>\n",
       "      <th>8</th>\n",
       "      <td>fg3</td>\n",
       "      <td>0</td>\n",
       "    </tr>\n",
       "    <tr>\n",
       "      <th>9</th>\n",
       "      <td>fg3</td>\n",
       "      <td>0</td>\n",
       "    </tr>\n",
       "    <tr>\n",
       "      <th>10</th>\n",
       "      <td>fg3</td>\n",
       "      <td>3</td>\n",
       "    </tr>\n",
       "    <tr>\n",
       "      <th>11</th>\n",
       "      <td>fg2</td>\n",
       "      <td>0</td>\n",
       "    </tr>\n",
       "    <tr>\n",
       "      <th>12</th>\n",
       "      <td>fg3</td>\n",
       "      <td>3</td>\n",
       "    </tr>\n",
       "    <tr>\n",
       "      <th>13</th>\n",
       "      <td>fg3</td>\n",
       "      <td>0</td>\n",
       "    </tr>\n",
       "    <tr>\n",
       "      <th>14</th>\n",
       "      <td>fg3</td>\n",
       "      <td>0</td>\n",
       "    </tr>\n",
       "    <tr>\n",
       "      <th>15</th>\n",
       "      <td>fg3</td>\n",
       "      <td>0</td>\n",
       "    </tr>\n",
       "    <tr>\n",
       "      <th>16</th>\n",
       "      <td>fg3</td>\n",
       "      <td>0</td>\n",
       "    </tr>\n",
       "    <tr>\n",
       "      <th>17</th>\n",
       "      <td>fg3</td>\n",
       "      <td>0</td>\n",
       "    </tr>\n",
       "    <tr>\n",
       "      <th>18</th>\n",
       "      <td>fg2</td>\n",
       "      <td>2</td>\n",
       "    </tr>\n",
       "    <tr>\n",
       "      <th>19</th>\n",
       "      <td>fg2</td>\n",
       "      <td>0</td>\n",
       "    </tr>\n",
       "  </tbody>\n",
       "</table>\n",
       "</div>"
      ],
      "text/plain": [
       "   event  points\n",
       "0    fg3       3\n",
       "1    fg2       2\n",
       "2    fg2       2\n",
       "3    fg3       0\n",
       "4    fg3       0\n",
       "5    fg3       0\n",
       "6    fg2       2\n",
       "7    fg2       2\n",
       "8    fg3       0\n",
       "9    fg3       0\n",
       "10   fg3       3\n",
       "11   fg2       0\n",
       "12   fg3       3\n",
       "13   fg3       0\n",
       "14   fg3       0\n",
       "15   fg3       0\n",
       "16   fg3       0\n",
       "17   fg3       0\n",
       "18   fg2       2\n",
       "19   fg2       0"
      ]
     },
     "execution_count": 26,
     "metadata": {},
     "output_type": "execute_result"
    }
   ],
   "source": [
    "# Simulating one game with a team full of Steph Curries\n",
    "curry_game = sim_game(curries)\n",
    "\n",
    "# Make sense of the results, maybe change the percentages of curries\n",
    "# above and see what's happening to the results. \n",
    "# Notice the free throws are pretty much always going in (if there\n",
    "# even are any since they only occur 5% of the time)!\n",
    "curry_game.head(20)"
   ]
  },
  {
   "cell_type": "code",
   "execution_count": 27,
   "metadata": {},
   "outputs": [],
   "source": [
    "def game_results(performance):\n",
    "    # Returns total points in a game\n",
    "    results_table = sim_game(performance)\n",
    "    \n",
    "    # Results by play outcomes:\n",
    "    ft = results_table[results_table['event'] == 'ft']\n",
    "    fgs = results_table[results_table['event'].str.contains('fg')]\n",
    "    fg3 = results_table[results_table['event'] == 'fg3']\n",
    "    \n",
    "    # Number in each play outcomes:\n",
    "    ft_made = len(ft[ft['points'] != 0])\n",
    "    fta = len(ft)\n",
    "    fg_made = len(fgs[fgs['points'] != 0])\n",
    "    fg3_made = len(fg3[fg3['points'] != 0])\n",
    "    fga = len(fgs)\n",
    "    total_points = sum(results_table['points'])\n",
    "    \n",
    "    return total_points"
   ]
  },
  {
   "cell_type": "code",
   "execution_count": 64,
   "metadata": {},
   "outputs": [],
   "source": [
    "def win(points):\n",
    "    if points > 100:\n",
    "        return 1\n",
    "    else:\n",
    "        return 0"
   ]
  },
  {
   "cell_type": "code",
   "execution_count": 65,
   "metadata": {},
   "outputs": [
    {
     "name": "stdout",
     "output_type": "stream",
     "text": [
      "Game won\n",
      "1\n",
      "Game won\n",
      "2\n",
      "Game won\n",
      "3\n",
      "Game won\n",
      "4\n",
      "Game won\n",
      "5\n",
      "Game lost\n",
      "5\n",
      "Game won\n",
      "6\n",
      "Game won\n",
      "7\n",
      "Game won\n",
      "8\n",
      "Game won\n",
      "9\n",
      "Game won\n",
      "10\n",
      "Game won\n",
      "11\n",
      "Game won\n",
      "12\n",
      "Game won\n",
      "13\n",
      "Game won\n",
      "14\n",
      "Game won\n",
      "15\n",
      "Game won\n",
      "16\n",
      "Game won\n",
      "17\n",
      "Game won\n",
      "18\n",
      "Game won\n",
      "19\n",
      "Game won\n",
      "20\n",
      "Game won\n",
      "21\n",
      "Game won\n",
      "22\n",
      "Game won\n",
      "23\n",
      "Game won\n",
      "24\n",
      "Game won\n",
      "25\n",
      "Game won\n",
      "26\n",
      "Game won\n",
      "27\n",
      "Game won\n",
      "28\n",
      "Game won\n",
      "29\n",
      "Game lost\n",
      "29\n",
      "Game won\n",
      "30\n",
      "Game won\n",
      "31\n",
      "Game lost\n",
      "31\n",
      "Game won\n",
      "32\n",
      "Game lost\n",
      "32\n",
      "Game won\n",
      "33\n",
      "Game won\n",
      "34\n",
      "Game won\n",
      "35\n",
      "Game won\n",
      "36\n",
      "Game won\n",
      "37\n",
      "Game won\n",
      "38\n",
      "Game won\n",
      "39\n",
      "Game won\n",
      "40\n",
      "Game won\n",
      "41\n",
      "Game won\n",
      "42\n",
      "Game won\n",
      "43\n",
      "Game won\n",
      "44\n",
      "Game won\n",
      "45\n",
      "Game won\n",
      "46\n",
      "Game won\n",
      "47\n",
      "Game lost\n",
      "47\n",
      "Game won\n",
      "48\n",
      "Game won\n",
      "49\n",
      "Game won\n",
      "50\n",
      "Game won\n",
      "51\n",
      "Game won\n",
      "52\n",
      "Game won\n",
      "53\n",
      "Game won\n",
      "54\n",
      "Game won\n",
      "55\n",
      "Game won\n",
      "56\n",
      "Game won\n",
      "57\n",
      "Game lost\n",
      "57\n",
      "Game won\n",
      "58\n",
      "Game won\n",
      "59\n",
      "Game lost\n",
      "59\n",
      "Game won\n",
      "60\n",
      "Game won\n",
      "61\n",
      "Game won\n",
      "62\n",
      "Game won\n",
      "63\n",
      "Game won\n",
      "64\n",
      "Game won\n",
      "65\n",
      "Game won\n",
      "66\n",
      "Game won\n",
      "67\n",
      "Game won\n",
      "68\n",
      "Game won\n",
      "69\n",
      "Game lost\n",
      "69\n",
      "Game won\n",
      "70\n",
      "Game won\n",
      "71\n",
      "Game won\n",
      "72\n",
      "Game won\n",
      "73\n",
      "Game won\n",
      "74\n"
     ]
    }
   ],
   "source": [
    "# Lets look at Curries team's wins:\n",
    "wins = 0\n",
    "\n",
    "for _ in range(82):\n",
    "    curry_results = game_results(curries)\n",
    "    if win(curry_results):\n",
    "        print('Game won')\n",
    "    else:\n",
    "        print('Game lost')\n",
    "    wins = wins + win(curry_results)\n",
    "    print(wins)"
   ]
  },
  {
   "cell_type": "code",
   "execution_count": 66,
   "metadata": {},
   "outputs": [],
   "source": [
    "def simulate_season(performance):\n",
    "    # returns number of wins at end of season\n",
    "    wins = 0\n",
    "    \n",
    "    for _ in range(82):\n",
    "        result = game_results(performance)\n",
    "        won = win(result)\n",
    "        wins = wins + won\n",
    "        \n",
    "    print('Number of games won: ' + str(wins))"
   ]
  },
  {
   "cell_type": "code",
   "execution_count": 67,
   "metadata": {},
   "outputs": [
    {
     "name": "stdout",
     "output_type": "stream",
     "text": [
      "Number of games won: 75\n"
     ]
    }
   ],
   "source": [
    "simulate_season(curries)"
   ]
  },
  {
   "cell_type": "code",
   "execution_count": 68,
   "metadata": {},
   "outputs": [],
   "source": [
    "def perf(fg2_rate, fg3_rate, ft_rate, tov_rate, fg2_pct, fg3_pct, ft_pct):\n",
    "    return pd.Series({\n",
    "            'fg2_rate': fg2_rate, \n",
    "            'fg3_rate': fg3_rate,\n",
    "            'ft_rate': ft_rate,\n",
    "            'tov_rate': tov_rate,\n",
    "            'fg2_pct': fg2_pct, \n",
    "            'fg3_pct': fg3_pct,\n",
    "            'ft_pct': ft_pct\n",
    "            })"
   ]
  },
  {
   "cell_type": "code",
   "execution_count": 69,
   "metadata": {},
   "outputs": [],
   "source": [
    "def rate_calculator(fta, fg2a, fg3a, orb, opp_drb, tov):\n",
    "    possessions = fg2a + fg3a + tov + 0.4 * fta\n",
    "    ft_rate = (0.4 * fta)/possessions\n",
    "    fg2_rate = fg2a/possessions\n",
    "    fg3_rate = fg3a/possessions\n",
    "    oreb_rate = orb/(orb + opp_drb)\n",
    "    tov_rate = tov/possessions\n",
    "    \n",
    "    print('ft rate ' + str(ft_rate))\n",
    "    print('fg2 rate ' + str(fg2_rate))\n",
    "    print('fg3 rate ' + str(fg3_rate))\n",
    "    print('oreb rate ' + str(oreb_rate))\n",
    "    print('tov rate ' + str(tov_rate))"
   ]
  },
  {
   "cell_type": "code",
   "execution_count": 70,
   "metadata": {},
   "outputs": [
    {
     "name": "stdout",
     "output_type": "stream",
     "text": [
      "ft rate 0.07275320970042798\n",
      "fg2 rate 0.4930456490727533\n",
      "fg3 rate 0.30670470756062773\n",
      "oreb rate 0.224537037037037\n",
      "tov rate 0.12749643366619118\n"
     ]
    }
   ],
   "source": [
    "# Warriors \n",
    "rate_calculator(20.4, 55.3, 34.4, 9.7, 33.5, 14.3)"
   ]
  },
  {
   "cell_type": "code",
   "execution_count": 72,
   "metadata": {},
   "outputs": [
    {
     "name": "stdout",
     "output_type": "stream",
     "text": [
      "Number of games won: 47\n"
     ]
    }
   ],
   "source": [
    "warriors = perf(0.493, 0.307, 0.073, 0.127, 0.557, 0.385, .801)\n",
    "simulate_season(warriors)"
   ]
  },
  {
   "cell_type": "code",
   "execution_count": 75,
   "metadata": {},
   "outputs": [
    {
     "name": "stdout",
     "output_type": "stream",
     "text": [
      "ft rate 0.05779117177805355\n",
      "fg2 rate 0.5282751285233115\n",
      "fg3 rate 0.2747739762453466\n",
      "oreb rate 0.22270742358078602\n",
      "tov rate 0.13915972345328842\n"
     ]
    }
   ],
   "source": [
    "# Lakers \n",
    "rate_calculator(16.3, 59.6, 31, 10.2, 35.6, 15.7)"
   ]
  },
  {
   "cell_type": "code",
   "execution_count": 90,
   "metadata": {},
   "outputs": [
    {
     "name": "stdout",
     "output_type": "stream",
     "text": [
      "Number of games won: 23\n"
     ]
    }
   ],
   "source": [
    "lakers = perf(0.527, 0.275, 0.058, 0.14, 0.541, 0.333, .699)\n",
    "simulate_season(lakers)"
   ]
  },
  {
   "cell_type": "code",
   "execution_count": 91,
   "metadata": {},
   "outputs": [
    {
     "name": "stdout",
     "output_type": "stream",
     "text": [
      "ft rate 0.0814121037463977\n",
      "fg2 rate 0.5556556195965417\n",
      "fg3 rate 0.23234870317002881\n",
      "oreb rate 0.2194570135746606\n",
      "tov rate 0.1305835734870317\n"
     ]
    }
   ],
   "source": [
    "# Clippers\n",
    "rate_calculator(22.6, 61.7, 25.8, 9.7, 34.5, 14.5)"
   ]
  },
  {
   "cell_type": "code",
   "execution_count": 97,
   "metadata": {},
   "outputs": [
    {
     "name": "stdout",
     "output_type": "stream",
     "text": [
      "Number of games won: 25\n"
     ]
    }
   ],
   "source": [
    "clips = perf(0.556, 0.232, 0.081, 0.131, 0.507, 0.388, .792)\n",
    "simulate_season(clips)"
   ]
  },
  {
   "cell_type": "code",
   "execution_count": null,
   "metadata": {},
   "outputs": [],
   "source": []
  }
 ],
 "metadata": {
  "kernelspec": {
   "display_name": "Python 3",
   "language": "python",
   "name": "python3"
  },
  "language_info": {
   "codemirror_mode": {
    "name": "ipython",
    "version": 3
   },
   "file_extension": ".py",
   "mimetype": "text/x-python",
   "name": "python",
   "nbconvert_exporter": "python",
   "pygments_lexer": "ipython3",
   "version": "3.6.8"
  }
 },
 "nbformat": 4,
 "nbformat_minor": 2
}
