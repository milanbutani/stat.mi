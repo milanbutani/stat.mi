{
 "cells": [
  {
   "cell_type": "code",
   "execution_count": 16,
   "metadata": {},
   "outputs": [],
   "source": [
    "import numpy as np\n",
    "import pandas as pd\n",
    "import seaborn as sns\n",
    "import matplotlib.font_manager as fm\n",
    "import matplotlib.pyplot as plt\n"
   ]
  },
  {
   "cell_type": "code",
   "execution_count": 17,
   "metadata": {},
   "outputs": [],
   "source": [
    "s6 = pd.read_csv('6.csv')\n",
    "s7 = pd.read_csv('7.csv')\n",
    "s8 = pd.read_csv('8.csv')\n",
    "s9 = pd.read_csv('9.csv')\n",
    "s10 = pd.read_csv('10.csv')\n",
    "s11 = pd.read_csv('11.csv')\n",
    "s12 = pd.read_csv('12.csv')\n",
    "s13 = pd.read_csv('13.csv')\n",
    "s14 = pd.read_csv('14.csv')\n",
    "s15 = pd.read_csv('15.csv')\n",
    "s16 = pd.read_csv('16.csv')\n",
    "s17 = pd.read_csv('17.csv')\n",
    "s18 = pd.read_csv('18.csv')\n",
    "s19 = pd.read_csv('19.csv')\n",
    "s20 = pd.read_csv('20.csv')"
   ]
  },
  {
   "cell_type": "code",
   "execution_count": 18,
   "metadata": {},
   "outputs": [
    {
     "data": {
      "text/plain": [
       "Index(['Rk', 'Team', 'G', 'MP', 'FG', 'FGA', 'FG%', '3P', '3PA', '3P%', '2P',\n",
       "       '2PA', '2P%', 'FT', 'FTA', 'FT%', 'ORB', 'DRB', 'TRB', 'AST', 'STL',\n",
       "       'BLK', 'TOV', 'PF', 'PTS'],\n",
       "      dtype='object')"
      ]
     },
     "execution_count": 18,
     "metadata": {},
     "output_type": "execute_result"
    }
   ],
   "source": [
    "s20.columns"
   ]
  },
  {
   "cell_type": "code",
   "execution_count": 19,
   "metadata": {},
   "outputs": [
    {
     "data": {
      "text/plain": [
       "[97.01333333333332,\n",
       " 98.74,\n",
       " 99.92333333333336,\n",
       " 99.94333333333331,\n",
       " 100.44999999999999,\n",
       " 99.55333333333334,\n",
       " 96.26,\n",
       " 98.13666666666664,\n",
       " 101.00999999999999,\n",
       " 100.01666666666665,\n",
       " 102.66451612903225,\n",
       " 105.59,\n",
       " 106.33666666666667,\n",
       " 111.20333333333333,\n",
       " 111.46333333333335]"
      ]
     },
     "execution_count": 19,
     "metadata": {},
     "output_type": "execute_result"
    }
   ],
   "source": [
    "dfs = [s6, s7, s8, s9, s10, s11, s12, s13, s14, s15, s16, s17, s18, s19, s20]\n",
    "pts = [np.mean(i['PTS']) for i in dfs]\n",
    "pts"
   ]
  },
  {
   "cell_type": "code",
   "execution_count": 20,
   "metadata": {},
   "outputs": [
    {
     "data": {
      "text/plain": [
       "[20.61,\n",
       " 21.290000000000003,\n",
       " 21.753333333333334,\n",
       " 20.980000000000004,\n",
       " 21.243333333333332,\n",
       " 21.493333333333332,\n",
       " 20.97333333333334,\n",
       " 22.139999999999997,\n",
       " 22.006666666666664,\n",
       " 22.02333333333333,\n",
       " 22.287096774193543,\n",
       " 22.626666666666665,\n",
       " 23.240000000000002,\n",
       " 24.58,\n",
       " 24.350000000000005]"
      ]
     },
     "execution_count": 20,
     "metadata": {},
     "output_type": "execute_result"
    }
   ],
   "source": [
    "ast = [np.mean(i['AST']) for i in dfs]\n",
    "ast"
   ]
  },
  {
   "cell_type": "code",
   "execution_count": 21,
   "metadata": {},
   "outputs": [
    {
     "data": {
      "text/plain": [
       "[5.7266666666666675,\n",
       " 6.0699999999999985,\n",
       " 6.5633333333333335,\n",
       " 6.653333333333334,\n",
       " 6.4399999999999995,\n",
       " 6.463333333333333,\n",
       " 6.406666666666667,\n",
       " 7.163333333333332,\n",
       " 7.743333333333333,\n",
       " 7.850000000000002,\n",
       " 8.506451612903227,\n",
       " 9.649999999999999,\n",
       " 10.486666666666668,\n",
       " 11.360000000000003,\n",
       " 12.139999999999997]"
      ]
     },
     "execution_count": 21,
     "metadata": {},
     "output_type": "execute_result"
    }
   ],
   "source": [
    "pm3 = [np.mean(i['3P']) for i in dfs]\n",
    "pm3"
   ]
  },
  {
   "cell_type": "code",
   "execution_count": 22,
   "metadata": {},
   "outputs": [
    {
     "data": {
      "text/plain": [
       "[14.413333333333332,\n",
       " 15.143333333333334,\n",
       " 14.123333333333333,\n",
       " 14.026666666666667,\n",
       " 14.229999999999997,\n",
       " 14.246666666666668,\n",
       " 14.586666666666666,\n",
       " 14.550000000000002,\n",
       " 14.643333333333333,\n",
       " 14.35333333333333,\n",
       " 14.390322580645158,\n",
       " 13.959999999999999,\n",
       " 14.270000000000001,\n",
       " 14.076666666666666,\n",
       " 14.523333333333333]"
      ]
     },
     "execution_count": 22,
     "metadata": {},
     "output_type": "execute_result"
    }
   ],
   "source": [
    "tov = [np.mean(i['TOV']) for i in dfs]\n",
    "tov"
   ]
  },
  {
   "cell_type": "code",
   "execution_count": 23,
   "metadata": {},
   "outputs": [
    {
     "data": {
      "text/plain": [
       "14.369132616487455"
      ]
     },
     "execution_count": 23,
     "metadata": {},
     "output_type": "execute_result"
    }
   ],
   "source": [
    "np.mean(tov)"
   ]
  },
  {
   "cell_type": "code",
   "execution_count": 24,
   "metadata": {},
   "outputs": [
    {
     "data": {
      "text/plain": [
       "[4.693333333333333,\n",
       " 4.61,\n",
       " 4.736666666666666,\n",
       " 4.806666666666667,\n",
       " 4.863333333333333,\n",
       " 4.870000000000001,\n",
       " 5.096666666666667,\n",
       " 5.136666666666668,\n",
       " 4.713333333333333,\n",
       " 4.793333333333333,\n",
       " 4.951612903225805,\n",
       " 4.739999999999998,\n",
       " 4.803333333333334,\n",
       " 4.946666666666668,\n",
       " 4.939999999999999]"
      ]
     },
     "execution_count": 24,
     "metadata": {},
     "output_type": "execute_result"
    }
   ],
   "source": [
    "blk = [np.mean(i['BLK']) for i in dfs]\n",
    "blk"
   ]
  },
  {
   "cell_type": "code",
   "execution_count": 25,
   "metadata": {},
   "outputs": [
    {
     "data": {
      "text/plain": [
       "[7.173333333333334,\n",
       " 7.24,\n",
       " 7.28,\n",
       " 7.27,\n",
       " 7.216666666666667,\n",
       " 7.319999999999999,\n",
       " 7.676666666666667,\n",
       " 7.806666666666666,\n",
       " 7.686666666666666,\n",
       " 7.73,\n",
       " 7.838709677419354,\n",
       " 7.709999999999999,\n",
       " 7.713333333333334,\n",
       " 7.623333333333335,\n",
       " 7.663333333333332]"
      ]
     },
     "execution_count": 25,
     "metadata": {},
     "output_type": "execute_result"
    }
   ],
   "source": [
    "stl = [np.mean(i['STL']) for i in dfs]\n",
    "stl"
   ]
  },
  {
   "cell_type": "code",
   "execution_count": 26,
   "metadata": {},
   "outputs": [],
   "source": [
    "seasons = ['05-06', '06-07', '07-08', '08-09', '09-10',\n",
    "           '10-11', '11-12', '12-13', '13-14', '14-15',\n",
    "           '15-16', '16-17', '17-18', '18-19', '19-20']"
   ]
  },
  {
   "cell_type": "code",
   "execution_count": 27,
   "metadata": {},
   "outputs": [],
   "source": [
    "zipped = list(zip(seasons, pts, ast, stl, blk, pm3))"
   ]
  },
  {
   "cell_type": "code",
   "execution_count": 28,
   "metadata": {},
   "outputs": [],
   "source": [
    "data = pd.DataFrame(data=zipped, columns=['Season', 'Points', 'Ast', 'Stl', 'Blk', '3PM'])"
   ]
  },
  {
   "cell_type": "code",
   "execution_count": 29,
   "metadata": {},
   "outputs": [
    {
     "data": {
      "text/html": [
       "<div>\n",
       "<style scoped>\n",
       "    .dataframe tbody tr th:only-of-type {\n",
       "        vertical-align: middle;\n",
       "    }\n",
       "\n",
       "    .dataframe tbody tr th {\n",
       "        vertical-align: top;\n",
       "    }\n",
       "\n",
       "    .dataframe thead th {\n",
       "        text-align: right;\n",
       "    }\n",
       "</style>\n",
       "<table border=\"1\" class=\"dataframe\">\n",
       "  <thead>\n",
       "    <tr style=\"text-align: right;\">\n",
       "      <th></th>\n",
       "      <th>Season</th>\n",
       "      <th>Points</th>\n",
       "      <th>Ast</th>\n",
       "      <th>Stl</th>\n",
       "      <th>Blk</th>\n",
       "      <th>3PM</th>\n",
       "    </tr>\n",
       "  </thead>\n",
       "  <tbody>\n",
       "    <tr>\n",
       "      <th>0</th>\n",
       "      <td>05-06</td>\n",
       "      <td>97.013333</td>\n",
       "      <td>20.610000</td>\n",
       "      <td>7.173333</td>\n",
       "      <td>4.693333</td>\n",
       "      <td>5.726667</td>\n",
       "    </tr>\n",
       "    <tr>\n",
       "      <th>1</th>\n",
       "      <td>06-07</td>\n",
       "      <td>98.740000</td>\n",
       "      <td>21.290000</td>\n",
       "      <td>7.240000</td>\n",
       "      <td>4.610000</td>\n",
       "      <td>6.070000</td>\n",
       "    </tr>\n",
       "    <tr>\n",
       "      <th>2</th>\n",
       "      <td>07-08</td>\n",
       "      <td>99.923333</td>\n",
       "      <td>21.753333</td>\n",
       "      <td>7.280000</td>\n",
       "      <td>4.736667</td>\n",
       "      <td>6.563333</td>\n",
       "    </tr>\n",
       "    <tr>\n",
       "      <th>3</th>\n",
       "      <td>08-09</td>\n",
       "      <td>99.943333</td>\n",
       "      <td>20.980000</td>\n",
       "      <td>7.270000</td>\n",
       "      <td>4.806667</td>\n",
       "      <td>6.653333</td>\n",
       "    </tr>\n",
       "    <tr>\n",
       "      <th>4</th>\n",
       "      <td>09-10</td>\n",
       "      <td>100.450000</td>\n",
       "      <td>21.243333</td>\n",
       "      <td>7.216667</td>\n",
       "      <td>4.863333</td>\n",
       "      <td>6.440000</td>\n",
       "    </tr>\n",
       "    <tr>\n",
       "      <th>5</th>\n",
       "      <td>10-11</td>\n",
       "      <td>99.553333</td>\n",
       "      <td>21.493333</td>\n",
       "      <td>7.320000</td>\n",
       "      <td>4.870000</td>\n",
       "      <td>6.463333</td>\n",
       "    </tr>\n",
       "    <tr>\n",
       "      <th>6</th>\n",
       "      <td>11-12</td>\n",
       "      <td>96.260000</td>\n",
       "      <td>20.973333</td>\n",
       "      <td>7.676667</td>\n",
       "      <td>5.096667</td>\n",
       "      <td>6.406667</td>\n",
       "    </tr>\n",
       "    <tr>\n",
       "      <th>7</th>\n",
       "      <td>12-13</td>\n",
       "      <td>98.136667</td>\n",
       "      <td>22.140000</td>\n",
       "      <td>7.806667</td>\n",
       "      <td>5.136667</td>\n",
       "      <td>7.163333</td>\n",
       "    </tr>\n",
       "    <tr>\n",
       "      <th>8</th>\n",
       "      <td>13-14</td>\n",
       "      <td>101.010000</td>\n",
       "      <td>22.006667</td>\n",
       "      <td>7.686667</td>\n",
       "      <td>4.713333</td>\n",
       "      <td>7.743333</td>\n",
       "    </tr>\n",
       "    <tr>\n",
       "      <th>9</th>\n",
       "      <td>14-15</td>\n",
       "      <td>100.016667</td>\n",
       "      <td>22.023333</td>\n",
       "      <td>7.730000</td>\n",
       "      <td>4.793333</td>\n",
       "      <td>7.850000</td>\n",
       "    </tr>\n",
       "    <tr>\n",
       "      <th>10</th>\n",
       "      <td>15-16</td>\n",
       "      <td>102.664516</td>\n",
       "      <td>22.287097</td>\n",
       "      <td>7.838710</td>\n",
       "      <td>4.951613</td>\n",
       "      <td>8.506452</td>\n",
       "    </tr>\n",
       "    <tr>\n",
       "      <th>11</th>\n",
       "      <td>16-17</td>\n",
       "      <td>105.590000</td>\n",
       "      <td>22.626667</td>\n",
       "      <td>7.710000</td>\n",
       "      <td>4.740000</td>\n",
       "      <td>9.650000</td>\n",
       "    </tr>\n",
       "    <tr>\n",
       "      <th>12</th>\n",
       "      <td>17-18</td>\n",
       "      <td>106.336667</td>\n",
       "      <td>23.240000</td>\n",
       "      <td>7.713333</td>\n",
       "      <td>4.803333</td>\n",
       "      <td>10.486667</td>\n",
       "    </tr>\n",
       "    <tr>\n",
       "      <th>13</th>\n",
       "      <td>18-19</td>\n",
       "      <td>111.203333</td>\n",
       "      <td>24.580000</td>\n",
       "      <td>7.623333</td>\n",
       "      <td>4.946667</td>\n",
       "      <td>11.360000</td>\n",
       "    </tr>\n",
       "    <tr>\n",
       "      <th>14</th>\n",
       "      <td>19-20</td>\n",
       "      <td>111.463333</td>\n",
       "      <td>24.350000</td>\n",
       "      <td>7.663333</td>\n",
       "      <td>4.940000</td>\n",
       "      <td>12.140000</td>\n",
       "    </tr>\n",
       "  </tbody>\n",
       "</table>\n",
       "</div>"
      ],
      "text/plain": [
       "   Season      Points        Ast       Stl       Blk        3PM\n",
       "0   05-06   97.013333  20.610000  7.173333  4.693333   5.726667\n",
       "1   06-07   98.740000  21.290000  7.240000  4.610000   6.070000\n",
       "2   07-08   99.923333  21.753333  7.280000  4.736667   6.563333\n",
       "3   08-09   99.943333  20.980000  7.270000  4.806667   6.653333\n",
       "4   09-10  100.450000  21.243333  7.216667  4.863333   6.440000\n",
       "5   10-11   99.553333  21.493333  7.320000  4.870000   6.463333\n",
       "6   11-12   96.260000  20.973333  7.676667  5.096667   6.406667\n",
       "7   12-13   98.136667  22.140000  7.806667  5.136667   7.163333\n",
       "8   13-14  101.010000  22.006667  7.686667  4.713333   7.743333\n",
       "9   14-15  100.016667  22.023333  7.730000  4.793333   7.850000\n",
       "10  15-16  102.664516  22.287097  7.838710  4.951613   8.506452\n",
       "11  16-17  105.590000  22.626667  7.710000  4.740000   9.650000\n",
       "12  17-18  106.336667  23.240000  7.713333  4.803333  10.486667\n",
       "13  18-19  111.203333  24.580000  7.623333  4.946667  11.360000\n",
       "14  19-20  111.463333  24.350000  7.663333  4.940000  12.140000"
      ]
     },
     "execution_count": 29,
     "metadata": {},
     "output_type": "execute_result"
    }
   ],
   "source": [
    "data"
   ]
  },
  {
   "cell_type": "code",
   "execution_count": 38,
   "metadata": {},
   "outputs": [
    {
     "data": {
      "image/png": "[encoded data removed]",
      "text/plain": [
       "<Figure size 432x288 with 1 Axes>"
      ]
     },
     "metadata": {
      "needs_background": "light"
     },
     "output_type": "display_data"
    }
   ],
   "source": [
    "ax = sns.barplot(x='Season', y='Points', data=data);\n",
    "prop = fm.FontProperties(fname='Liberator-Light.ttf')\n",
    "plt.xticks(rotation=90, fontproperties=prop, size=14);\n",
    "plt.ylim(94, 114);\n",
    "plt.yticks(fontproperties=prop, size=14);\n",
    "plt.xlabel('Season', fontproperties=prop, size=14);\n",
    "plt.ylabel('Points', fontproperties=prop, size=14);\n",
    "plt.axhline(y=np.mean(data['Points']),linewidth=2, color='k');\n",
    "ax.set_title('Average Points per Game', fontproperties=prop, size=28)\n",
    "plt.text(2, y, s, fontsize=12)\n",
    "plt.tight_layout()\n",
    "#plt.savefig(\"ptsseason.png\")"
   ]
  },
  {
   "cell_type": "code",
   "execution_count": 41,
   "metadata": {},
   "outputs": [
    {
     "data": {
      "image/png": "[encoded data removed]",
      "text/plain": [
       "<Figure size 432x288 with 1 Axes>"
      ]
     },
     "metadata": {
      "needs_background": "light"
     },
     "output_type": "display_data"
    }
   ],
   "source": [
    "ax = sns.barplot(x='Season', y='3PM', data=data);\n",
    "prop = fm.FontProperties(fname='Liberator-Light.ttf')\n",
    "plt.xticks(rotation=90, fontproperties=prop, size=14);\n",
    "plt.ylim(4, 13);\n",
    "plt.yticks(fontproperties=prop, size=14);\n",
    "plt.xlabel('Season', fontproperties=prop, size=14);\n",
    "plt.ylabel('3 Pointers Made', fontproperties=prop, size=14);\n",
    "plt.axhline(y=np.mean(data['3PM']),linewidth=2, color='k');\n",
    "ax.set_title('Average 3-Pointers Made per Game', fontproperties=prop, size=20)\n",
    "plt.tight_layout()\n",
    "#plt.savefig(\"ptsseason.png\")"
   ]
  },
  {
   "cell_type": "code",
   "execution_count": null,
   "metadata": {},
   "outputs": [],
   "source": []
  }
 ],
 "metadata": {
  "kernelspec": {
   "display_name": "Python 3",
   "language": "python",
   "name": "python3"
  },
  "language_info": {
   "codemirror_mode": {
    "name": "ipython",
    "version": 3
   },
   "file_extension": ".py",
   "mimetype": "text/x-python",
   "name": "python",
   "nbconvert_exporter": "python",
   "pygments_lexer": "ipython3",
   "version": "3.6.9"
  }
 },
 "nbformat": 4,
 "nbformat_minor": 4
}
