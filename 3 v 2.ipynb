{
 "cells": [
  {
   "cell_type": "code",
   "execution_count": 1,
   "metadata": {},
   "outputs": [],
   "source": [
    "import numpy as np\n",
    "import pandas as pd\n",
    "import seaborn as sns\n",
    "import matplotlib.pyplot as plt\n",
    "import matplotlib.font_manager as fm"
   ]
  },
  {
   "cell_type": "code",
   "execution_count": 3,
   "metadata": {},
   "outputs": [
    {
     "data": {
      "text/html": [
       "<div>\n",
       "<style scoped>\n",
       "    .dataframe tbody tr th:only-of-type {\n",
       "        vertical-align: middle;\n",
       "    }\n",
       "\n",
       "    .dataframe tbody tr th {\n",
       "        vertical-align: top;\n",
       "    }\n",
       "\n",
       "    .dataframe thead th {\n",
       "        text-align: right;\n",
       "    }\n",
       "</style>\n",
       "<table border=\"1\" class=\"dataframe\">\n",
       "  <thead>\n",
       "    <tr style=\"text-align: right;\">\n",
       "      <th></th>\n",
       "      <th>Rk</th>\n",
       "      <th>Player</th>\n",
       "      <th>Pos</th>\n",
       "      <th>Age</th>\n",
       "      <th>Tm</th>\n",
       "      <th>G</th>\n",
       "      <th>GS</th>\n",
       "      <th>MP</th>\n",
       "      <th>FG</th>\n",
       "      <th>FGA</th>\n",
       "      <th>...</th>\n",
       "      <th>FT%</th>\n",
       "      <th>ORB</th>\n",
       "      <th>DRB</th>\n",
       "      <th>TRB</th>\n",
       "      <th>AST</th>\n",
       "      <th>STL</th>\n",
       "      <th>BLK</th>\n",
       "      <th>TOV</th>\n",
       "      <th>PF</th>\n",
       "      <th>PTS</th>\n",
       "    </tr>\n",
       "  </thead>\n",
       "  <tbody>\n",
       "    <tr>\n",
       "      <th>0</th>\n",
       "      <td>1</td>\n",
       "      <td>James Harden\\hardeja01</td>\n",
       "      <td>SG</td>\n",
       "      <td>30</td>\n",
       "      <td>HOU</td>\n",
       "      <td>61</td>\n",
       "      <td>61</td>\n",
       "      <td>36.7</td>\n",
       "      <td>9.9</td>\n",
       "      <td>22.7</td>\n",
       "      <td>...</td>\n",
       "      <td>0.861</td>\n",
       "      <td>1.0</td>\n",
       "      <td>5.3</td>\n",
       "      <td>6.4</td>\n",
       "      <td>7.4</td>\n",
       "      <td>1.7</td>\n",
       "      <td>0.9</td>\n",
       "      <td>4.5</td>\n",
       "      <td>3.4</td>\n",
       "      <td>34.4</td>\n",
       "    </tr>\n",
       "    <tr>\n",
       "      <th>1</th>\n",
       "      <td>2</td>\n",
       "      <td>Damian Lillard\\lillada01</td>\n",
       "      <td>PG</td>\n",
       "      <td>29</td>\n",
       "      <td>POR</td>\n",
       "      <td>58</td>\n",
       "      <td>58</td>\n",
       "      <td>36.9</td>\n",
       "      <td>9.2</td>\n",
       "      <td>20.0</td>\n",
       "      <td>...</td>\n",
       "      <td>0.888</td>\n",
       "      <td>0.5</td>\n",
       "      <td>3.8</td>\n",
       "      <td>4.3</td>\n",
       "      <td>7.8</td>\n",
       "      <td>1.0</td>\n",
       "      <td>0.4</td>\n",
       "      <td>2.9</td>\n",
       "      <td>1.7</td>\n",
       "      <td>28.9</td>\n",
       "    </tr>\n",
       "    <tr>\n",
       "      <th>2</th>\n",
       "      <td>3</td>\n",
       "      <td>Buddy Hield\\hieldbu01</td>\n",
       "      <td>SG</td>\n",
       "      <td>27</td>\n",
       "      <td>SAC</td>\n",
       "      <td>64</td>\n",
       "      <td>44</td>\n",
       "      <td>32.0</td>\n",
       "      <td>7.1</td>\n",
       "      <td>16.6</td>\n",
       "      <td>...</td>\n",
       "      <td>0.855</td>\n",
       "      <td>0.9</td>\n",
       "      <td>3.9</td>\n",
       "      <td>4.8</td>\n",
       "      <td>3.1</td>\n",
       "      <td>0.9</td>\n",
       "      <td>0.3</td>\n",
       "      <td>2.3</td>\n",
       "      <td>2.3</td>\n",
       "      <td>19.8</td>\n",
       "    </tr>\n",
       "    <tr>\n",
       "      <th>3</th>\n",
       "      <td>4</td>\n",
       "      <td>Dāvis Bertāns\\bertada01</td>\n",
       "      <td>PF</td>\n",
       "      <td>27</td>\n",
       "      <td>WAS</td>\n",
       "      <td>54</td>\n",
       "      <td>4</td>\n",
       "      <td>29.3</td>\n",
       "      <td>4.9</td>\n",
       "      <td>11.3</td>\n",
       "      <td>...</td>\n",
       "      <td>0.852</td>\n",
       "      <td>0.6</td>\n",
       "      <td>3.9</td>\n",
       "      <td>4.5</td>\n",
       "      <td>1.7</td>\n",
       "      <td>0.7</td>\n",
       "      <td>0.6</td>\n",
       "      <td>1.1</td>\n",
       "      <td>2.6</td>\n",
       "      <td>15.4</td>\n",
       "    </tr>\n",
       "    <tr>\n",
       "      <th>4</th>\n",
       "      <td>5</td>\n",
       "      <td>Duncan Robinson\\robindu01</td>\n",
       "      <td>SF</td>\n",
       "      <td>25</td>\n",
       "      <td>MIA</td>\n",
       "      <td>65</td>\n",
       "      <td>60</td>\n",
       "      <td>30.0</td>\n",
       "      <td>4.4</td>\n",
       "      <td>9.4</td>\n",
       "      <td>...</td>\n",
       "      <td>0.906</td>\n",
       "      <td>0.1</td>\n",
       "      <td>3.1</td>\n",
       "      <td>3.3</td>\n",
       "      <td>1.4</td>\n",
       "      <td>0.5</td>\n",
       "      <td>0.2</td>\n",
       "      <td>0.9</td>\n",
       "      <td>2.8</td>\n",
       "      <td>13.3</td>\n",
       "    </tr>\n",
       "  </tbody>\n",
       "</table>\n",
       "<p>5 rows × 30 columns</p>\n",
       "</div>"
      ],
      "text/plain": [
       "   Rk                     Player Pos  Age   Tm   G  GS    MP   FG   FGA  ...   \\\n",
       "0   1     James Harden\\hardeja01  SG   30  HOU  61  61  36.7  9.9  22.7  ...    \n",
       "1   2   Damian Lillard\\lillada01  PG   29  POR  58  58  36.9  9.2  20.0  ...    \n",
       "2   3      Buddy Hield\\hieldbu01  SG   27  SAC  64  44  32.0  7.1  16.6  ...    \n",
       "3   4    Dāvis Bertāns\\bertada01  PF   27  WAS  54   4  29.3  4.9  11.3  ...    \n",
       "4   5  Duncan Robinson\\robindu01  SF   25  MIA  65  60  30.0  4.4   9.4  ...    \n",
       "\n",
       "     FT%  ORB  DRB  TRB  AST  STL  BLK  TOV   PF   PTS  \n",
       "0  0.861  1.0  5.3  6.4  7.4  1.7  0.9  4.5  3.4  34.4  \n",
       "1  0.888  0.5  3.8  4.3  7.8  1.0  0.4  2.9  1.7  28.9  \n",
       "2  0.855  0.9  3.9  4.8  3.1  0.9  0.3  2.3  2.3  19.8  \n",
       "3  0.852  0.6  3.9  4.5  1.7  0.7  0.6  1.1  2.6  15.4  \n",
       "4  0.906  0.1  3.1  3.3  1.4  0.5  0.2  0.9  2.8  13.3  \n",
       "\n",
       "[5 rows x 30 columns]"
      ]
     },
     "execution_count": 3,
     "metadata": {},
     "output_type": "execute_result"
    }
   ],
   "source": [
    "players = pd.read_csv('nba.csv')\n",
    "players.head()"
   ]
  },
  {
   "cell_type": "code",
   "execution_count": 7,
   "metadata": {},
   "outputs": [
    {
     "data": {
      "text/plain": [
       "Index(['Rk', 'Player', 'Pos', 'Age', 'Tm', 'G', 'GS', 'MP', 'FG', 'FGA', 'FG%',\n",
       "       '3P▼', '3PA', '3P%', '2P', '2PA', '2P%', 'eFG%', 'FT', 'FTA', 'FT%',\n",
       "       'ORB', 'DRB', 'TRB', 'AST', 'STL', 'BLK', 'TOV', 'PF', 'PTS'],\n",
       "      dtype='object')"
      ]
     },
     "execution_count": 7,
     "metadata": {},
     "output_type": "execute_result"
    }
   ],
   "source": [
    "players.columns"
   ]
  },
  {
   "cell_type": "code",
   "execution_count": 8,
   "metadata": {},
   "outputs": [],
   "source": [
    "cols = ['Player', '2P', '3P▼']"
   ]
  },
  {
   "cell_type": "code",
   "execution_count": 22,
   "metadata": {},
   "outputs": [
    {
     "data": {
      "text/html": [
       "<div>\n",
       "<style scoped>\n",
       "    .dataframe tbody tr th:only-of-type {\n",
       "        vertical-align: middle;\n",
       "    }\n",
       "\n",
       "    .dataframe tbody tr th {\n",
       "        vertical-align: top;\n",
       "    }\n",
       "\n",
       "    .dataframe thead th {\n",
       "        text-align: right;\n",
       "    }\n",
       "</style>\n",
       "<table border=\"1\" class=\"dataframe\">\n",
       "  <thead>\n",
       "    <tr style=\"text-align: right;\">\n",
       "      <th></th>\n",
       "      <th>Player</th>\n",
       "      <th>two</th>\n",
       "      <th>three</th>\n",
       "    </tr>\n",
       "  </thead>\n",
       "  <tbody>\n",
       "    <tr>\n",
       "      <th>0</th>\n",
       "      <td>James Harden\\hardeja01</td>\n",
       "      <td>5.4</td>\n",
       "      <td>4.4</td>\n",
       "    </tr>\n",
       "    <tr>\n",
       "      <th>1</th>\n",
       "      <td>Damian Lillard\\lillada01</td>\n",
       "      <td>5.3</td>\n",
       "      <td>3.9</td>\n",
       "    </tr>\n",
       "    <tr>\n",
       "      <th>2</th>\n",
       "      <td>Buddy Hield\\hieldbu01</td>\n",
       "      <td>3.3</td>\n",
       "      <td>3.8</td>\n",
       "    </tr>\n",
       "    <tr>\n",
       "      <th>3</th>\n",
       "      <td>Dāvis Bertāns\\bertada01</td>\n",
       "      <td>1.2</td>\n",
       "      <td>3.7</td>\n",
       "    </tr>\n",
       "    <tr>\n",
       "      <th>4</th>\n",
       "      <td>Duncan Robinson\\robindu01</td>\n",
       "      <td>0.7</td>\n",
       "      <td>3.7</td>\n",
       "    </tr>\n",
       "  </tbody>\n",
       "</table>\n",
       "</div>"
      ],
      "text/plain": [
       "                      Player  two  three\n",
       "0     James Harden\\hardeja01  5.4    4.4\n",
       "1   Damian Lillard\\lillada01  5.3    3.9\n",
       "2      Buddy Hield\\hieldbu01  3.3    3.8\n",
       "3    Dāvis Bertāns\\bertada01  1.2    3.7\n",
       "4  Duncan Robinson\\robindu01  0.7    3.7"
      ]
     },
     "execution_count": 22,
     "metadata": {},
     "output_type": "execute_result"
    }
   ],
   "source": [
    "v23 = players[cols]\n",
    "v23.columns = ['Player', 'two', 'three']\n",
    "v23.head()"
   ]
  },
  {
   "cell_type": "code",
   "execution_count": 42,
   "metadata": {},
   "outputs": [
    {
     "data": {
      "image/png": "[encoded data removed]",
      "text/plain": [
       "<Figure size 842.4x595.44 with 1 Axes>"
      ]
     },
     "metadata": {},
     "output_type": "display_data"
    }
   ],
   "source": [
    "sns.set(rc={'figure.figsize':(11.7,8.27)})\n",
    "sns.set_style(\"whitegrid\", {'axes.grid' : False})\n",
    "ax = sns.scatterplot(x='three', y='two', data=v23, color='peru');\n",
    "prop = fm.FontProperties(fname='Liberator-Light.ttf')\n",
    "plt.xticks(fontproperties=prop, size=16);\n",
    "plt.yticks(fontproperties=prop, size=16);\n",
    "plt.xlabel('3pm per game', fontproperties=prop, size=18);\n",
    "plt.ylabel('2PM per game', fontproperties=prop, size=18);\n",
    "#plt.axhline(y=np.mean(data['Points']),linewidth=2, color='k');\n",
    "ax.set_title('3PM vs. 2PM', fontproperties=prop, size=24)\n",
    "plt.plot([0, 5], [0, 5], '--', linewidth=2)\n",
    "#for line in range(0,5):\n",
    "#    if line == 0:\n",
    "#        plt.text(v23.three[line]-0.2, v23.two[line], v23.Player[line].split(\"\\\\\")[0].split(' ')[1], fontproperties=prop, horizontalalignment='left', size=10, color='black')\n",
    "#    else:\n",
    "#        plt.text(v23.three[line]-0.2, v23.two[line], v23.Player[line].split(\"\\\\\")[0].split(' ')[1], fontproperties=prop, horizontalalignment='left', size=10, color='black')#plt.text(2, y, s, fontsize=12)\n",
    "#plt.plot([0, 5], [0, 5], '--', linewidth=2)\n",
    "plt.savefig(\"threees.png\")"
   ]
  },
  {
   "cell_type": "code",
   "execution_count": 33,
   "metadata": {},
   "outputs": [
    {
     "data": {
      "text/plain": [
       "213"
      ]
     },
     "execution_count": 33,
     "metadata": {},
     "output_type": "execute_result"
    }
   ],
   "source": [
    "len(v23[v23['two'] > v23['three']])"
   ]
  },
  {
   "cell_type": "code",
   "execution_count": 34,
   "metadata": {},
   "outputs": [
    {
     "data": {
      "text/plain": [
       "267"
      ]
     },
     "execution_count": 34,
     "metadata": {},
     "output_type": "execute_result"
    }
   ],
   "source": [
    "len(v23)"
   ]
  },
  {
   "cell_type": "code",
   "execution_count": 35,
   "metadata": {},
   "outputs": [
    {
     "data": {
      "text/plain": [
       "0.20224719101123595"
      ]
     },
     "execution_count": 35,
     "metadata": {},
     "output_type": "execute_result"
    }
   ],
   "source": [
    "(267-213)/267"
   ]
  },
  {
   "cell_type": "code",
   "execution_count": null,
   "metadata": {},
   "outputs": [],
   "source": []
  }
 ],
 "metadata": {
  "kernelspec": {
   "display_name": "Python 3",
   "language": "python",
   "name": "python3"
  },
  "language_info": {
   "codemirror_mode": {
    "name": "ipython",
    "version": 3
   },
   "file_extension": ".py",
   "mimetype": "text/x-python",
   "name": "python",
   "nbconvert_exporter": "python",
   "pygments_lexer": "ipython3",
   "version": "3.6.9"
  }
 },
 "nbformat": 4,
 "nbformat_minor": 4
}
